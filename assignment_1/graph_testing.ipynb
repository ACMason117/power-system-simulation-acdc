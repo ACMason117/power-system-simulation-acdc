{
 "cells": [
  {
   "cell_type": "markdown",
   "metadata": {},
   "source": [
    "This file is to be used to test functionalities of our graph_processor package.\n",
    "\n"
   ]
  },
  {
   "cell_type": "code",
   "execution_count": 2,
   "metadata": {},
   "outputs": [],
   "source": [
    "# Importing graph_processor file\n",
    "# import graph_processing\n",
    "from typing import List, Tuple\n",
    "import graph_processing as gp\n",
    "# import numpy as np\n",
    "# import scipy as sp"
   ]
  },
  {
   "cell_type": "code",
   "execution_count": 5,
   "metadata": {},
   "outputs": [
    {
     "ename": "NameError",
     "evalue": "name 'edge_id' is not defined",
     "output_type": "error",
     "traceback": [
      "\u001b[1;31m---------------------------------------------------------------------------\u001b[0m",
      "\u001b[1;31mNameError\u001b[0m                                 Traceback (most recent call last)",
      "Cell \u001b[1;32mIn[5], line 18\u001b[0m\n\u001b[0;32m     16\u001b[0m vertex_parents \u001b[38;5;241m=\u001b[39m {}\n\u001b[0;32m     17\u001b[0m \u001b[38;5;66;03m# receive adjacency list\u001b[39;00m\n\u001b[1;32m---> 18\u001b[0m downstream_vertices \u001b[38;5;241m=\u001b[39m test3\u001b[38;5;241m.\u001b[39mfind_downstream_vertices(\u001b[43medge_id\u001b[49m)\n\u001b[0;32m     20\u001b[0m \u001b[38;5;28mprint\u001b[39m(\u001b[38;5;124m\"\u001b[39m\u001b[38;5;124mDownstream vertices:\u001b[39m\u001b[38;5;124m\"\u001b[39m, downstream_vertices)\n",
      "\u001b[1;31mNameError\u001b[0m: name 'edge_id' is not defined"
     ]
    }
   ],
   "source": [
    "vertex_ids = [0, 1, 2, 3, 4, 5]\n",
    "edge_ids = [1, 2, 3, 4, 5]\n",
    "edge_vertex_id_pairs = [(0, 1), (2, 1), (1, 3), (4, 1), (4, 5)]\n",
    "edge_enabled = [True, True, True, True, True]\n",
    "source_vertex_id = 0\n",
    "\n",
    "test3 = gp.GraphProcessor(\n",
    "    vertex_ids=vertex_ids,\n",
    "    edge_ids=edge_ids,\n",
    "    edge_vertex_id_pairs=edge_vertex_id_pairs,\n",
    "    edge_enabled=edge_enabled,\n",
    "    source_vertex_id=source_vertex_id,\n",
    ")\n",
    "\n",
    "vertex_visited = []\n",
    "vertex_parents = {}\n"
   ]
  }
 ],
 "metadata": {
  "kernelspec": {
   "display_name": "Python 3",
   "language": "python",
   "name": "python3"
  },
  "language_info": {
   "codemirror_mode": {
    "name": "ipython",
    "version": 3
   },
   "file_extension": ".py",
   "mimetype": "text/x-python",
   "name": "python",
   "nbconvert_exporter": "python",
   "pygments_lexer": "ipython3",
   "version": "3.12.3"
  }
 },
 "nbformat": 4,
 "nbformat_minor": 2
}
