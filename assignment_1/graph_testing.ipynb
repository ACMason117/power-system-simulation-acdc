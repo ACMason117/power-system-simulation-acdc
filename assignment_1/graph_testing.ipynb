{
 "cells": [
  {
   "cell_type": "markdown",
   "metadata": {},
   "source": [
    "This file is to be used to test functionalities of our graph_processor package.\n",
    "\n"
   ]
  },
  {
   "cell_type": "code",
   "execution_count": null,
   "metadata": {},
   "outputs": [],
   "source": [
    "# Importing graph_processor file\n",
    "# import graph_processing\n",
    "from typing import List, Tuple\n",
    "import graph_processing as gp\n",
    "\n",
    "# import numpy as np\n",
    "# import scipy as sp"
   ]
  },
  {
   "cell_type": "code",
   "execution_count": null,
   "metadata": {},
   "outputs": [],
   "source": [
    "# create graph\n",
    "def sort_tuple_list(unsorted_tuple_list) -> List[Tuple[int, int]]:\n",
    "    # sort each tuple in ascending order\n",
    "    sorted_tuple_list = [tuple(sorted(t)) for t in unsorted_tuple_list]\n",
    "    sorted_tuple_list = sorted(sorted_tuple_list, key=lambda x: x[0])\n",
    "    return sorted_tuple_list\n",
    "\n",
    "\n",
    "edge_vertex_id_pairs = [(1, 2), (0, 1), (1, 3), (3, 5), (4, 3)]\n",
    "print(edge_vertex_id_pairs)\n",
    "\n",
    "sorted_id_pairs = sort_tuple_list(edge_vertex_id_pairs)\n",
    "print(sorted_id_pairs)"
   ]
  },
  {
   "cell_type": "code",
   "execution_count": null,
   "metadata": {},
   "outputs": [],
   "source": [
    "graph = {\"5\": [\"3\", \"7\"], \"3\": [\"2\", \"4\"], \"7\": [\"8\"], \"2\": [], \"4\": [\"8\"], \"8\": []}\n",
    "\n",
    "visited = set()  # Set to keep track of visited nodes of graph.\n",
    "\n",
    "\n",
    "def dfs(visited, graph, node):  # function for dfs\n",
    "    if node not in visited:\n",
    "        print(node)\n",
    "        visited.add(node)\n",
    "        for neighbour in graph[node]:\n",
    "            dfs(visited, graph, neighbour)\n",
    "\n",
    "\n",
    "# Driver Code\n",
    "print(\"Following is the Depth-First Search\")\n",
    "dfs(visited, graph, \"5\")"
   ]
  },
  {
   "cell_type": "code",
   "execution_count": null,
   "metadata": {},
   "outputs": [],
   "source": [
    "print(graph[\"3\"])"
   ]
  },
  {
   "cell_type": "code",
   "execution_count": null,
   "metadata": {},
   "outputs": [],
   "source": [
    "edges = [(\"5\", \"3\"), (\"5\", \"7\"), (\"3\", \"2\"), (\"3\", \"4\"), (\"7\", \"8\"), (\"4\", \"8\")]\n",
    "\n",
    "\n",
    "# Function to build the adjacency list for a directed graph\n",
    "def build_directed_graph(edges):\n",
    "    graph = {}  # Initialize an empty dictionary\n",
    "    for edge in edges:\n",
    "        u, v = edge  # Unpack the edge into source and destination\n",
    "        if u not in graph:\n",
    "            graph[u] = []  # Create a new list for the source node\n",
    "        graph[u].append(v)  # Add the destination node to the source's adjacency list\n",
    "    return graph\n",
    "\n",
    "\n",
    "# Build the directed graph\n",
    "directed_graph = build_directed_graph(edges)\n",
    "\n",
    "# Display the created adjacency list\n",
    "print(\"Directed Graph:\")\n",
    "print(directed_graph)"
   ]
  },
  {
   "cell_type": "code",
   "execution_count": null,
   "metadata": {},
   "outputs": [],
   "source": [
    "# Function to build the adjacency list for a directed graph with an optional starting point\n",
    "def build_directed_graph(edges, initial_nodes=None):\n",
    "    graph = {}  # Initialize an empty dictionary\n",
    "\n",
    "    # If there are initial nodes, add them to the graph with empty lists\n",
    "    if initial_nodes:\n",
    "        for node in initial_nodes:\n",
    "            graph[node] = []  # Initialize the adjacency list for the initial nodes\n",
    "\n",
    "    # Add edges to the graph\n",
    "    for edge in edges:\n",
    "        u, v = edge  # Unpack the edge into source and destination\n",
    "        if u not in graph:\n",
    "            graph[u] = []  # Create a new list for the source node\n",
    "        graph[u].append(v)  # Add the destination node to the source's adjacency list\n",
    "\n",
    "    return graph\n",
    "\n",
    "\n",
    "# List of directed edges\n",
    "edges = [(\"5\", \"3\"), (\"5\", \"7\"), (\"3\", \"2\"), (\"3\", \"4\"), (\"7\", \"8\"), (\"4\", \"8\")]\n",
    "\n",
    "# Example of using initial starting points\n",
    "initial_nodes = [\"7\"]  # Nodes not explicitly in the edges list\n",
    "\n",
    "# Build the directed graph with the initial starting points\n",
    "directed_graph = build_directed_graph(edges, initial_nodes)\n",
    "\n",
    "# Display the created adjacency list\n",
    "print(\"Directed Graph:\")\n",
    "print(directed_graph)"
   ]
  },
  {
   "cell_type": "code",
   "execution_count": null,
   "metadata": {},
   "outputs": [],
   "source": [
    "print(build_adjacency_list(edge_vertex_id_pairs, edge_enabled))"
   ]
  },
  {
   "cell_type": "code",
   "execution_count": null,
   "metadata": {},
   "outputs": [],
   "source": [
    "import graph_processing as tp\n",
    "\n",
    "vertex_ids = [0, 1, 2, 3, 4, 5, 6]\n",
    "edge_ids = [1, 2, 3, 4, 5, 6]\n",
    "edge_vertex_id_pairs = [(0, 1), (1, 2), (1, 3), (3, 4), (3, 5), (2, 6)]\n",
    "edge_enabled = [True, True, True, True, True, True]\n",
    "source_vertex_id = 0\n",
    "\n",
    "test1 = gp.GraphProcessor(\n",
    "    vertex_ids=vertex_ids,\n",
    "    edge_ids=edge_ids,\n",
    "    edge_vertex_id_pairs=edge_vertex_id_pairs,\n",
    "    edge_enabled=edge_enabled,\n",
    "    source_vertex_id=source_vertex_id,\n",
    ")\n",
    "\n",
    "vertex_visited = []\n",
    "vertex_parents = {}\n",
    "# receive adjacency list\n",
    "adjacency_list = test1.build_adjacency_list(edge_vertex_id_pairs, edge_enabled)\n",
    "test1.DFS(adjacency_list, vertex_visited, float(\"Nan\"), vertex_parents, 5)\n",
    "\n",
    "print(vertex_visited)\n",
    "print(vertex_parents)"
   ]
  },
  {
   "cell_type": "code",
   "execution_count": 1,
   "metadata": {},
   "outputs": [
    {
     "ename": "RecursionError",
     "evalue": "maximum recursion depth exceeded",
     "output_type": "error",
     "traceback": [
      "\u001b[1;31m---------------------------------------------------------------------------\u001b[0m",
      "\u001b[1;31mRecursionError\u001b[0m                            Traceback (most recent call last)",
      "Cell \u001b[1;32mIn[1], line 17\u001b[0m\n\u001b[0;32m     14\u001b[0m source_vertex_id \u001b[38;5;241m=\u001b[39m \u001b[38;5;241m0\u001b[39m  \u001b[38;5;66;03m# ID of the source vertex \u001b[39;00m\n\u001b[0;32m     15\u001b[0m disabled_edge_id \u001b[38;5;241m=\u001b[39m \u001b[38;5;241m5\u001b[39m\n\u001b[1;32m---> 17\u001b[0m test2 \u001b[38;5;241m=\u001b[39m \u001b[43mtp\u001b[49m\u001b[38;5;241;43m.\u001b[39;49m\u001b[43mGraphProcessor\u001b[49m\u001b[43m(\u001b[49m\n\u001b[0;32m     18\u001b[0m \u001b[43m    \u001b[49m\u001b[43mvertex_ids\u001b[49m\u001b[38;5;241;43m=\u001b[39;49m\u001b[43mvertex_ids\u001b[49m\u001b[43m,\u001b[49m\n\u001b[0;32m     19\u001b[0m \u001b[43m    \u001b[49m\u001b[43medge_ids\u001b[49m\u001b[38;5;241;43m=\u001b[39;49m\u001b[43medge_ids\u001b[49m\u001b[43m,\u001b[49m\n\u001b[0;32m     20\u001b[0m \u001b[43m    \u001b[49m\u001b[43medge_vertex_id_pairs\u001b[49m\u001b[38;5;241;43m=\u001b[39;49m\u001b[43medge_vertex_id_pairs\u001b[49m\u001b[43m,\u001b[49m\n\u001b[0;32m     21\u001b[0m \u001b[43m    \u001b[49m\u001b[43medge_enabled\u001b[49m\u001b[38;5;241;43m=\u001b[39;49m\u001b[43medge_enabled\u001b[49m\u001b[43m,\u001b[49m\n\u001b[0;32m     22\u001b[0m \u001b[43m    \u001b[49m\u001b[43msource_vertex_id\u001b[49m\u001b[38;5;241;43m=\u001b[39;49m\u001b[43msource_vertex_id\u001b[49m\u001b[43m,\u001b[49m\n\u001b[0;32m     23\u001b[0m \u001b[43m)\u001b[49m\n\u001b[0;32m     25\u001b[0m alternative_edges \u001b[38;5;241m=\u001b[39m test2\u001b[38;5;241m.\u001b[39mfind_alternative_edges(disabled_edge_id)\n\u001b[0;32m     26\u001b[0m \u001b[38;5;28mprint\u001b[39m(\u001b[38;5;124m\"\u001b[39m\u001b[38;5;124mAlternative edges:\u001b[39m\u001b[38;5;124m\"\u001b[39m, alternative_edges)\n",
      "File \u001b[1;32mc:\\Users\\20202301\\Documents\\AT Y3 Q4\\5XWG0\\GitHub Clones\\power-system-simulation-acdc\\assignment_1\\graph_processing.py:121\u001b[0m, in \u001b[0;36mGraphProcessor.__init__\u001b[1;34m(self, vertex_ids, edge_ids, edge_vertex_id_pairs, edge_enabled, source_vertex_id)\u001b[0m\n\u001b[0;32m    119\u001b[0m  \u001b[38;5;66;03m# receive adjacency list\u001b[39;00m\n\u001b[0;32m    120\u001b[0m  adjacency_list \u001b[38;5;241m=\u001b[39m \u001b[38;5;28mself\u001b[39m\u001b[38;5;241m.\u001b[39mbuild_adjacency_list(edge_vertex_id_pairs, edge_enabled)\n\u001b[1;32m--> 121\u001b[0m  \u001b[38;5;28;01mif\u001b[39;00m \u001b[38;5;28;43mself\u001b[39;49m\u001b[38;5;241;43m.\u001b[39;49m\u001b[43mDFS\u001b[49m\u001b[43m(\u001b[49m\u001b[43madjacency_list\u001b[49m\u001b[43m,\u001b[49m\u001b[43m \u001b[49m\u001b[43mvertex_visited\u001b[49m\u001b[43m,\u001b[49m\u001b[43m \u001b[49m\u001b[38;5;28;43mfloat\u001b[39;49m\u001b[43m(\u001b[49m\u001b[38;5;124;43m\"\u001b[39;49m\u001b[38;5;124;43mNan\u001b[39;49m\u001b[38;5;124;43m\"\u001b[39;49m\u001b[43m)\u001b[49m\u001b[43m,\u001b[49m\u001b[43m \u001b[49m\u001b[43mvertex_parents\u001b[49m\u001b[43m,\u001b[49m\u001b[43m \u001b[49m\u001b[43msource_vertex_id\u001b[49m\u001b[43m)\u001b[49m \u001b[38;5;241m==\u001b[39m \u001b[38;5;241m1\u001b[39m:\n\u001b[0;32m    122\u001b[0m      \u001b[38;5;28;01mraise\u001b[39;00m GraphCycleError(\u001b[38;5;124m\"\u001b[39m\u001b[38;5;124mCycle found\u001b[39m\u001b[38;5;124m\"\u001b[39m)\n\u001b[0;32m    124\u001b[0m \u001b[38;5;66;03m# if len(vertex_visited) != len(vertex_ids):\u001b[39;00m\n\u001b[0;32m    125\u001b[0m  \u001b[38;5;66;03m#    raise GraphNotFullyConnectedError(\"Graph not fully connected. Cannot reach all vertices.\")\u001b[39;00m\n",
      "File \u001b[1;32mc:\\Users\\20202301\\Documents\\AT Y3 Q4\\5XWG0\\GitHub Clones\\power-system-simulation-acdc\\assignment_1\\graph_processing.py:144\u001b[0m, in \u001b[0;36mGraphProcessor.DFS\u001b[1;34m(self, adjacency_list, visited, parent, parent_list, start_node)\u001b[0m\n\u001b[0;32m    141\u001b[0m     \u001b[38;5;28;01mif\u001b[39;00m (adjacent_vertex \u001b[38;5;129;01min\u001b[39;00m visited) \u001b[38;5;129;01mand\u001b[39;00m (adjacent_vertex \u001b[38;5;241m!=\u001b[39m parent):\n\u001b[0;32m    142\u001b[0m         \u001b[38;5;66;03m# Cycle detected, return 1\u001b[39;00m\n\u001b[0;32m    143\u001b[0m         \u001b[38;5;28;01mreturn\u001b[39;00m \u001b[38;5;241m1\u001b[39m\n\u001b[1;32m--> 144\u001b[0m     \u001b[38;5;28;43mself\u001b[39;49m\u001b[38;5;241;43m.\u001b[39;49m\u001b[43mDFS\u001b[49m\u001b[43m(\u001b[49m\u001b[43madjacency_list\u001b[49m\u001b[43m,\u001b[49m\u001b[43m \u001b[49m\u001b[43mvisited\u001b[49m\u001b[43m,\u001b[49m\u001b[43m \u001b[49m\u001b[43mstart_node\u001b[49m\u001b[43m,\u001b[49m\u001b[43m \u001b[49m\u001b[43mparent_list\u001b[49m\u001b[43m,\u001b[49m\u001b[43m \u001b[49m\u001b[43madjacent_vertex\u001b[49m\u001b[43m)\u001b[49m\n\u001b[0;32m    146\u001b[0m \u001b[38;5;66;03m# If no cycle is found\u001b[39;00m\n\u001b[0;32m    147\u001b[0m \u001b[38;5;28;01mreturn\u001b[39;00m \u001b[38;5;241m0\u001b[39m\n",
      "File \u001b[1;32mc:\\Users\\20202301\\Documents\\AT Y3 Q4\\5XWG0\\GitHub Clones\\power-system-simulation-acdc\\assignment_1\\graph_processing.py:144\u001b[0m, in \u001b[0;36mGraphProcessor.DFS\u001b[1;34m(self, adjacency_list, visited, parent, parent_list, start_node)\u001b[0m\n\u001b[0;32m    141\u001b[0m     \u001b[38;5;28;01mif\u001b[39;00m (adjacent_vertex \u001b[38;5;129;01min\u001b[39;00m visited) \u001b[38;5;129;01mand\u001b[39;00m (adjacent_vertex \u001b[38;5;241m!=\u001b[39m parent):\n\u001b[0;32m    142\u001b[0m         \u001b[38;5;66;03m# Cycle detected, return 1\u001b[39;00m\n\u001b[0;32m    143\u001b[0m         \u001b[38;5;28;01mreturn\u001b[39;00m \u001b[38;5;241m1\u001b[39m\n\u001b[1;32m--> 144\u001b[0m     \u001b[38;5;28;43mself\u001b[39;49m\u001b[38;5;241;43m.\u001b[39;49m\u001b[43mDFS\u001b[49m\u001b[43m(\u001b[49m\u001b[43madjacency_list\u001b[49m\u001b[43m,\u001b[49m\u001b[43m \u001b[49m\u001b[43mvisited\u001b[49m\u001b[43m,\u001b[49m\u001b[43m \u001b[49m\u001b[43mstart_node\u001b[49m\u001b[43m,\u001b[49m\u001b[43m \u001b[49m\u001b[43mparent_list\u001b[49m\u001b[43m,\u001b[49m\u001b[43m \u001b[49m\u001b[43madjacent_vertex\u001b[49m\u001b[43m)\u001b[49m\n\u001b[0;32m    146\u001b[0m \u001b[38;5;66;03m# If no cycle is found\u001b[39;00m\n\u001b[0;32m    147\u001b[0m \u001b[38;5;28;01mreturn\u001b[39;00m \u001b[38;5;241m0\u001b[39m\n",
      "    \u001b[1;31m[... skipping similar frames: GraphProcessor.DFS at line 144 (2973 times)]\u001b[0m\n",
      "File \u001b[1;32mc:\\Users\\20202301\\Documents\\AT Y3 Q4\\5XWG0\\GitHub Clones\\power-system-simulation-acdc\\assignment_1\\graph_processing.py:144\u001b[0m, in \u001b[0;36mGraphProcessor.DFS\u001b[1;34m(self, adjacency_list, visited, parent, parent_list, start_node)\u001b[0m\n\u001b[0;32m    141\u001b[0m     \u001b[38;5;28;01mif\u001b[39;00m (adjacent_vertex \u001b[38;5;129;01min\u001b[39;00m visited) \u001b[38;5;129;01mand\u001b[39;00m (adjacent_vertex \u001b[38;5;241m!=\u001b[39m parent):\n\u001b[0;32m    142\u001b[0m         \u001b[38;5;66;03m# Cycle detected, return 1\u001b[39;00m\n\u001b[0;32m    143\u001b[0m         \u001b[38;5;28;01mreturn\u001b[39;00m \u001b[38;5;241m1\u001b[39m\n\u001b[1;32m--> 144\u001b[0m     \u001b[38;5;28;43mself\u001b[39;49m\u001b[38;5;241;43m.\u001b[39;49m\u001b[43mDFS\u001b[49m\u001b[43m(\u001b[49m\u001b[43madjacency_list\u001b[49m\u001b[43m,\u001b[49m\u001b[43m \u001b[49m\u001b[43mvisited\u001b[49m\u001b[43m,\u001b[49m\u001b[43m \u001b[49m\u001b[43mstart_node\u001b[49m\u001b[43m,\u001b[49m\u001b[43m \u001b[49m\u001b[43mparent_list\u001b[49m\u001b[43m,\u001b[49m\u001b[43m \u001b[49m\u001b[43madjacent_vertex\u001b[49m\u001b[43m)\u001b[49m\n\u001b[0;32m    146\u001b[0m \u001b[38;5;66;03m# If no cycle is found\u001b[39;00m\n\u001b[0;32m    147\u001b[0m \u001b[38;5;28;01mreturn\u001b[39;00m \u001b[38;5;241m0\u001b[39m\n",
      "\u001b[1;31mRecursionError\u001b[0m: maximum recursion depth exceeded"
     ]
    }
   ],
   "source": [
    "import graph_processing as tp\n",
    "\n",
    "vertex_ids = [0, 2, 4, 6, 10]  # All unique vertex ids\n",
    "edge_ids = [1, 3, 5, 7, 8, 9]  # All unique edge ids\n",
    "edge_vertex_id_pairs = [\n",
    "    (0, 2),  # edge 1\n",
    "    (0, 4),  # edge 3\n",
    "    (0, 6),  # edge 5\n",
    "    (2, 4),  # edge 7\n",
    "    (4, 6),  # edge 8\n",
    "    (2, 10),  # edge 9\n",
    "]\n",
    "edge_enabled = [True, True, True, False, False, True]  # Whether each edge is enabled or disabled\n",
    "source_vertex_id = 0  # ID of the source vertex\n",
    "disabled_edge_id = 5\n",
    "\n",
    "test2 = tp.GraphProcessor(\n",
    "    vertex_ids=vertex_ids,\n",
    "    edge_ids=edge_ids,\n",
    "    edge_vertex_id_pairs=edge_vertex_id_pairs,\n",
    "    edge_enabled=edge_enabled,\n",
    "    source_vertex_id=source_vertex_id,\n",
    ")\n",
    "\n",
    "alternative_edges = test2.find_alternative_edges(disabled_edge_id)\n",
    "print(\"Alternative edges:\", alternative_edges)"
   ]
  }
 ],
 "metadata": {
  "kernelspec": {
   "display_name": "Python 3",
   "language": "python",
   "name": "python3"
  },
  "language_info": {
   "codemirror_mode": {
    "name": "ipython",
    "version": 3
   },
   "file_extension": ".py",
   "mimetype": "text/x-python",
   "name": "python",
   "nbconvert_exporter": "python",
   "pygments_lexer": "ipython3",
   "version": "3.12.3"
  }
 },
 "nbformat": 4,
 "nbformat_minor": 2
}
