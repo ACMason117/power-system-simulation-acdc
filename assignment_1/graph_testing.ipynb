{
 "cells": [
  {
   "cell_type": "markdown",
   "metadata": {},
   "source": [
    "This file is to be used to test functionalities of our graph_processor package.\n",
    "\n"
   ]
  },
  {
   "cell_type": "code",
   "execution_count": null,
   "metadata": {},
   "outputs": [],
   "source": [
    "# Importing graph_processor file\n",
    "# import graph_processing\n",
    "from typing import List, Tuple\n",
    "import graph_processing as gp\n",
    "\n",
    "# import numpy as np\n",
    "# import scipy as sp"
   ]
  },
  {
   "cell_type": "code",
   "execution_count": null,
   "metadata": {},
   "outputs": [],
   "source": [
    "vertex_ids = [0, 1, 2, 3, 4, 5, 6]\n",
    "edge_ids = [1, 2, 3, 4, 5, 6]\n",
    "edge_vertex_id_pairs = [(1, 0), (1, 2), (1, 3), (3, 4), (3, 5), (2, 3)]\n",
    "edge_enabled = [True, True, True, True, True, True]\n",
    "source_vertex_id = 0\n",
    "\n",
    "test1 = gp.GraphProcessor(\n",
    "    vertex_ids=vertex_ids,\n",
    "    edge_ids=edge_ids,\n",
    "    edge_vertex_id_pairs=edge_vertex_id_pairs,\n",
    "    edge_enabled=edge_enabled,\n",
    "    source_vertex_id=source_vertex_id,\n",
    ")\n",
    "\n",
    "vertex_visited = []\n",
    "vertex_parents = {}\n",
    "# receive adjacency list\n",
    "adjacency_list = test1.build_adjacency_list(edge_vertex_id_pairs, edge_enabled)\n",
    "test1.DFS(adjacency_list, vertex_visited, float(\"Nan\"), vertex_parents, 5)\n",
    "\n",
    "print(vertex_visited)\n",
    "print(vertex_parents)"
   ]
  },
  {
   "cell_type": "code",
   "execution_count": null,
   "metadata": {},
   "outputs": [],
   "source": [
    "import graph_processing as gp\n",
    "\n",
    "vertex_ids = [0, 1, 2, 3, 4, 5]\n",
    "edge_ids = [1, 2, 3, 4, 5]\n",
    "edge_vertex_id_pairs = [(1, 0), (1, 2), (1, 3), (3, 5), (3, 4)]\n",
    "edge_enabled = [True, True, True, True, True]\n",
    "source_vertex_id = 0\n",
    "\n",
    "edge_id = 2\n",
    "\n",
    "test1 = gp.GraphProcessor(\n",
    "    vertex_ids=vertex_ids,\n",
    "    edge_ids=edge_ids,\n",
    "    edge_vertex_id_pairs=edge_vertex_id_pairs,\n",
    "    edge_enabled=edge_enabled,\n",
    "    source_vertex_id=source_vertex_id,\n",
    ")\n",
    "\n",
    "# print(disabled_edge)\n",
    "\n",
    "vertex_visited = []\n",
    "vertex_parents = {}\n",
    "adjacency_list = test1.build_adjacency_list(test1.edge_vertex_id_pairs, test1.edge_enabled)\n",
    "test1.DFS(\n",
    "    adjacency_list, vertex_visited, float(\"Nan\"), vertex_parents, test1.source_vertex_id\n",
    ")  # cannot be cyclic, don't check\n",
    "\n",
    "# step 2: receive disabled edge\n",
    "index_disabled_edge = test1.edge_ids.index(edge_id)\n",
    "disabled_edge = test1.edge_vertex_id_pairs[index_disabled_edge]\n",
    "\n",
    "print(vertex_parents)\n",
    "# print(disabled_edge[0])\n",
    "# print(vertex_parents[disabled_edge[1]] )\n",
    "\n",
    "if disabled_edge[0] == vertex_parents[disabled_edge[1]]:\n",
    "    # if first vertex in edge is parent of second vertex, pick second (child) vertex\n",
    "    downstream_vertex_source = disabled_edge[1]\n",
    "else:\n",
    "    # otherwise first vertex must be the child\n",
    "    downstream_vertex_source = disabled_edge[0]\n",
    "\n",
    "print(downstream_vertex_source)\n",
    "\n",
    "print(test1.edge_enabled)\n",
    "\n",
    "test1.edge_enabled[index_disabled_edge] = False\n",
    "print(test1.edge_enabled)\n",
    "\n",
    "# step 3: choose new start point (child)\n",
    "# if disabled_edge[0] == vertex_parents[disabled_edge[1]]:\n",
    "#     new_source =\n",
    "# else:\n",
    "#     new_source ="
   ]
  },
  {
   "cell_type": "code",
   "execution_count": null,
   "metadata": {},
   "outputs": [],
   "source": [
    "import graph_processing as gp\n",
    "\n",
    "vertex_ids = [0, 1, 2, 3, 4, 5]\n",
    "edge_ids = [1, 2, 3, 4, 5]\n",
    "edge_vertex_id_pairs = [(1, 0), (1, 2), (1, 3), (3, 5), (3, 4)]\n",
    "edge_enabled = [True, True, True, True, True]\n",
    "source_vertex_id = 0\n",
    "\n",
    "test1 = gp.GraphProcessor(\n",
    "    vertex_ids=vertex_ids,\n",
    "    edge_ids=edge_ids,\n",
    "    edge_vertex_id_pairs=edge_vertex_id_pairs,\n",
    "    edge_enabled=edge_enabled,\n",
    "    source_vertex_id=source_vertex_id,\n",
    ")\n",
    "\n",
    "\n",
    "parents = {}\n",
    "visited = []\n",
    "adjacency_list = test1.build_adjacency_list(test1.edge_vertex_id_pairs, test1.edge_enabled)\n",
    "test1.DFS(adjacency_list, visited, float(\"NaN\"), parents, test1.source_vertex_id)\n",
    "\n",
    "print(visited)\n",
    "\n",
    "\n",
    "# testing\n",
    "edge_id = 5\n",
    "\n",
    "downstream_vertices = test1.find_downstream_vertices(edge_id)\n",
    "print(downstream_vertices)\n",
    "# print(test1.edge_ids)\n",
    "# print(test1.edge_enabled)"
   ]
  },
  {
   "cell_type": "code",
   "execution_count": 5,
   "metadata": {},
   "outputs": [
    {
     "name": "stdout",
     "output_type": "stream",
     "text": [
      "[1, 2, 3, 4, 5]\n"
     ]
    }
   ],
   "source": [
    "import graph_processing as gp\n",
    "\n",
    "vertex_ids = [0, 1, 2, 3, 4, 5]\n",
    "edge_ids = [1, 2, 3, 4, 5]\n",
    "edge_vertex_id_pairs = [(1, 0), (1, 2), (1, 3), (3, 4), (3, 5)]\n",
    "edge_enabled = [True, True, True, True, True]\n",
    "source_vertex_id = 0\n",
    "\n",
    "test1 = gp.GraphProcessor(\n",
    "    vertex_ids=vertex_ids,\n",
    "    edge_ids=edge_ids,\n",
    "    edge_vertex_id_pairs=edge_vertex_id_pairs,\n",
    "    edge_enabled=edge_enabled,\n",
    "    source_vertex_id=source_vertex_id,\n",
    ")\n",
    "\n",
    "# testing\n",
    "edge_id = 1\n",
    "\n",
    "downstream_vertices = test1.find_downstream_vertices(edge_id)\n",
    "print(downstream_vertices)"
   ]
  },
  {
   "cell_type": "code",
   "execution_count": 10,
   "metadata": {},
   "outputs": [
    {
     "name": "stdout",
     "output_type": "stream",
     "text": [
      "[2, 4]\n"
     ]
    }
   ],
   "source": [
    "import graph_processing as gp\n",
    "\n",
    "vertex_ids = [0, 2, 4]\n",
    "edge_ids = [1, 3]\n",
    "edge_vertex_id_pairs = [(0, 2), (2, 4)]\n",
    "edge_enabled = [True, True]\n",
    "source_vertex_id = 0\n",
    "\n",
    "test1 = gp.GraphProcessor(\n",
    "    vertex_ids=vertex_ids,\n",
    "    edge_ids=edge_ids,\n",
    "    edge_vertex_id_pairs=edge_vertex_id_pairs,\n",
    "    edge_enabled=edge_enabled,\n",
    "    source_vertex_id=source_vertex_id,\n",
    ")\n",
    "\n",
    "# testing\n",
    "edge_id = 1\n",
    "\n",
    "downstream_vertices = test1.find_downstream_vertices(edge_id)\n",
    "print(downstream_vertices)"
   ]
  }
 ],
 "metadata": {
  "kernelspec": {
   "display_name": "Python 3",
   "language": "python",
   "name": "python3"
  },
  "language_info": {
   "codemirror_mode": {
    "name": "ipython",
    "version": 3
   },
   "file_extension": ".py",
   "mimetype": "text/x-python",
   "name": "python",
   "nbconvert_exporter": "python",
   "pygments_lexer": "ipython3",
   "version": "3.12.3"
  }
 },
 "nbformat": 4,
 "nbformat_minor": 2
}
