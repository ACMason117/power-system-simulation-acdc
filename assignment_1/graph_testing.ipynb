{
 "cells": [
  {
   "cell_type": "markdown",
   "metadata": {},
   "source": [
    "This file is to be used to test functionalities of our graph_processor package.\n",
    "\n"
   ]
  },
  {
   "cell_type": "code",
   "execution_count": null,
   "metadata": {},
   "outputs": [],
   "source": [
    "# Importing graph_processor file\n",
    "# import graph_processing\n",
    "from typing import List, Tuple\n",
    "import graph_processing as gp\n",
    "# import numpy as np\n",
    "# import scipy as sp"
   ]
  },
  {
   "cell_type": "code",
   "execution_count": 1,
   "metadata": {},
   "outputs": [
    {
     "ename": "EdgePairNotUniqueError",
     "evalue": "Multiple edges connecting same 2 vertices found",
     "output_type": "error",
     "traceback": [
      "\u001b[1;31m---------------------------------------------------------------------------\u001b[0m",
      "\u001b[1;31mEdgePairNotUniqueError\u001b[0m                    Traceback (most recent call last)",
      "Cell \u001b[1;32mIn[1], line 9\u001b[0m\n\u001b[0;32m      6\u001b[0m edge_enabled \u001b[38;5;241m=\u001b[39m [\u001b[38;5;28;01mTrue\u001b[39;00m, \u001b[38;5;28;01mTrue\u001b[39;00m, \u001b[38;5;28;01mTrue\u001b[39;00m, \u001b[38;5;28;01mTrue\u001b[39;00m, \u001b[38;5;28;01mTrue\u001b[39;00m, \u001b[38;5;28;01mTrue\u001b[39;00m]\n\u001b[0;32m      7\u001b[0m source_vertex_id \u001b[38;5;241m=\u001b[39m \u001b[38;5;241m0\u001b[39m\n\u001b[1;32m----> 9\u001b[0m test1 \u001b[38;5;241m=\u001b[39m \u001b[43mtp\u001b[49m\u001b[38;5;241;43m.\u001b[39;49m\u001b[43mGraphProcessor\u001b[49m\u001b[43m(\u001b[49m\n\u001b[0;32m     10\u001b[0m \u001b[43m    \u001b[49m\u001b[43mvertex_ids\u001b[49m\u001b[38;5;241;43m=\u001b[39;49m\u001b[43mvertex_ids\u001b[49m\u001b[43m,\u001b[49m\n\u001b[0;32m     11\u001b[0m \u001b[43m    \u001b[49m\u001b[43medge_ids\u001b[49m\u001b[38;5;241;43m=\u001b[39;49m\u001b[43medge_ids\u001b[49m\u001b[43m,\u001b[49m\n\u001b[0;32m     12\u001b[0m \u001b[43m    \u001b[49m\u001b[43medge_vertex_id_pairs\u001b[49m\u001b[38;5;241;43m=\u001b[39;49m\u001b[43medge_vertex_id_pairs\u001b[49m\u001b[43m,\u001b[49m\n\u001b[0;32m     13\u001b[0m \u001b[43m    \u001b[49m\u001b[43medge_enabled\u001b[49m\u001b[38;5;241;43m=\u001b[39;49m\u001b[43medge_enabled\u001b[49m\u001b[43m,\u001b[49m\n\u001b[0;32m     14\u001b[0m \u001b[43m    \u001b[49m\u001b[43msource_vertex_id\u001b[49m\u001b[38;5;241;43m=\u001b[39;49m\u001b[43msource_vertex_id\u001b[49m\u001b[43m,\u001b[49m\n\u001b[0;32m     15\u001b[0m \u001b[43m)\u001b[49m\n\u001b[0;32m     17\u001b[0m vertex_visited \u001b[38;5;241m=\u001b[39m []\n\u001b[0;32m     18\u001b[0m vertex_parents \u001b[38;5;241m=\u001b[39m {}\n",
      "File \u001b[1;32mc:\\Users\\20200821\\Documents\\GitHub\\power-system-simulation-acdc\\assignment_1\\graph_processing.py:106\u001b[0m, in \u001b[0;36mGraphProcessor.__init__\u001b[1;34m(self, vertex_ids, edge_ids, edge_vertex_id_pairs, edge_enabled, source_vertex_id)\u001b[0m\n\u001b[0;32m    104\u001b[0m \u001b[38;5;66;03m# custom Errors\u001b[39;00m\n\u001b[0;32m    105\u001b[0m \u001b[38;5;28;01mif\u001b[39;00m \u001b[38;5;28mlen\u001b[39m(edge_vertex_id_pairs) \u001b[38;5;241m!=\u001b[39m \u001b[38;5;28mlen\u001b[39m(\u001b[38;5;28mset\u001b[39m(sort_tuple_list(edge_vertex_id_pairs))):\n\u001b[1;32m--> 106\u001b[0m     \u001b[38;5;28;01mraise\u001b[39;00m EdgePairNotUniqueError(\u001b[38;5;124m\"\u001b[39m\u001b[38;5;124mMultiple edges connecting same 2 vertices found\u001b[39m\u001b[38;5;124m\"\u001b[39m)\n\u001b[0;32m    108\u001b[0m \u001b[38;5;66;03m# 6. The graph should be fully connected\u001b[39;00m\n\u001b[0;32m    109\u001b[0m \u001b[38;5;66;03m# 7. The graph should not contain cycles (checked inside DFS)\u001b[39;00m\n\u001b[0;32m    110\u001b[0m vertex_visited \u001b[38;5;241m=\u001b[39m []\n",
      "\u001b[1;31mEdgePairNotUniqueError\u001b[0m: Multiple edges connecting same 2 vertices found"
     ]
    }
   ],
   "source": [
    "\n",
    "\n",
    "vertex_ids = [0, 1, 2, 3, 4, 5, 6]\n",
    "edge_ids = [1, 2, 3, 4, 5, 6]\n",
    "edge_vertex_id_pairs = [(1, 0), (1, 2), (1, 3), (3, 4), (3, 5), (1, 3)]\n",
    "edge_enabled = [True, True, True, True, True, True]\n",
    "source_vertex_id = 0\n",
    "\n",
    "test1 = gp.GraphProcessor(\n",
    "    vertex_ids=vertex_ids,\n",
    "    edge_ids=edge_ids,\n",
    "    edge_vertex_id_pairs=edge_vertex_id_pairs,\n",
    "    edge_enabled=edge_enabled,\n",
    "    source_vertex_id=source_vertex_id,\n",
    ")\n",
    "\n",
    "vertex_visited = []\n",
    "vertex_parents = {}\n",
    "# receive adjacency list\n",
    "adjacency_list = test1.build_adjacency_list(edge_vertex_id_pairs, edge_enabled)\n",
    "test1.DFS(adjacency_list, vertex_visited, float(\"Nan\"), vertex_parents, 5)\n",
    "\n",
    "print(vertex_visited)\n",
    "print(vertex_parents)"
   ]
  }
 ],
 "metadata": {
  "kernelspec": {
   "display_name": "Python 3",
   "language": "python",
   "name": "python3"
  },
  "language_info": {
   "codemirror_mode": {
    "name": "ipython",
    "version": 3
   },
   "file_extension": ".py",
   "mimetype": "text/x-python",
   "name": "python",
   "nbconvert_exporter": "python",
   "pygments_lexer": "ipython3",
   "version": "3.12.3"
  }
 },
 "nbformat": 4,
 "nbformat_minor": 2
}
