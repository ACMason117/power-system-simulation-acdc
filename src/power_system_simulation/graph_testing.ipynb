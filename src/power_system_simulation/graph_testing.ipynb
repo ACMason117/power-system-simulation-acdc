{
 "cells": [
  {
   "cell_type": "markdown",
   "metadata": {},
   "source": [
    "This file is to be used to test functionalities of our graph_processor package.\n",
    "\n",
    "It will be deleted at a future date.\n"
   ]
  },
  {
   "cell_type": "code",
   "execution_count": 1,
   "metadata": {},
   "outputs": [],
   "source": [
    "# Importing graph_processor file\n",
    "# import graph_processing\n",
    "from typing import List, Tuple\n",
    "\n",
    "# import numpy as np\n",
    "# import scipy as sp"
   ]
  },
  {
   "cell_type": "code",
   "execution_count": 2,
   "metadata": {},
   "outputs": [
    {
     "name": "stdout",
     "output_type": "stream",
     "text": [
      "[(1, 2), (0, 1), (1, 3), (3, 5), (4, 3)]\n",
      "[(0, 1), (1, 2), (1, 3), (3, 5), (3, 4)]\n"
     ]
    }
   ],
   "source": [
    "# create graph\n",
    "def sort_tuple_list(unsorted_tuple_list) -> List[Tuple[int, int]]:\n",
    "    # sort each tuple in ascending order\n",
    "    sorted_tuple_list = [tuple(sorted(t)) for t in unsorted_tuple_list]\n",
    "    sorted_tuple_list = sorted(sorted_tuple_list, key=lambda x: x[0])\n",
    "    return sorted_tuple_list\n",
    "\n",
    "\n",
    "edge_vertex_id_pairs = [(1, 2), (0, 1), (1, 3), (3, 5), (4, 3)]\n",
    "print(edge_vertex_id_pairs)\n",
    "\n",
    "sorted_id_pairs = sort_tuple_list(edge_vertex_id_pairs)\n",
    "print(sorted_id_pairs)"
   ]
  },
  {
   "cell_type": "code",
   "execution_count": 3,
   "metadata": {},
   "outputs": [
    {
     "name": "stdout",
     "output_type": "stream",
     "text": [
      "Following is the Depth-First Search\n",
      "5\n",
      "3\n",
      "2\n",
      "4\n",
      "8\n",
      "7\n"
     ]
    }
   ],
   "source": [
    "graph = {\"5\": [\"3\", \"7\"], \"3\": [\"2\", \"4\"], \"7\": [\"8\"], \"2\": [], \"4\": [\"8\"], \"8\": []}\n",
    "\n",
    "visited = set()  # Set to keep track of visited nodes of graph.\n",
    "\n",
    "\n",
    "def dfs(visited, graph, node):  # function for dfs\n",
    "    if node not in visited:\n",
    "        print(node)\n",
    "        visited.add(node)\n",
    "        for neighbour in graph[node]:\n",
    "            dfs(visited, graph, neighbour)\n",
    "\n",
    "\n",
    "# Driver Code\n",
    "print(\"Following is the Depth-First Search\")\n",
    "dfs(visited, graph, \"5\")"
   ]
  },
  {
   "cell_type": "code",
   "execution_count": 4,
   "metadata": {},
   "outputs": [
    {
     "name": "stdout",
     "output_type": "stream",
     "text": [
      "['2', '4']\n"
     ]
    }
   ],
   "source": [
    "print(graph[\"3\"])"
   ]
  },
  {
   "cell_type": "code",
   "execution_count": 5,
   "metadata": {},
   "outputs": [
    {
     "name": "stdout",
     "output_type": "stream",
     "text": [
      "Directed Graph:\n",
      "{'5': ['3', '7'], '3': ['2', '4'], '7': ['8'], '4': ['8']}\n"
     ]
    }
   ],
   "source": [
    "edges = [(\"5\", \"3\"), (\"5\", \"7\"), (\"3\", \"2\"), (\"3\", \"4\"), (\"7\", \"8\"), (\"4\", \"8\")]\n",
    "\n",
    "\n",
    "# Function to build the adjacency list for a directed graph\n",
    "def build_directed_graph(edges):\n",
    "    graph = {}  # Initialize an empty dictionary\n",
    "    for edge in edges:\n",
    "        u, v = edge  # Unpack the edge into source and destination\n",
    "        if u not in graph:\n",
    "            graph[u] = []  # Create a new list for the source node\n",
    "        graph[u].append(v)  # Add the destination node to the source's adjacency list\n",
    "    return graph\n",
    "\n",
    "\n",
    "# Build the directed graph\n",
    "directed_graph = build_directed_graph(edges)\n",
    "\n",
    "# Display the created adjacency list\n",
    "print(\"Directed Graph:\")\n",
    "print(directed_graph)"
   ]
  },
  {
   "cell_type": "code",
   "execution_count": 6,
   "metadata": {},
   "outputs": [
    {
     "name": "stdout",
     "output_type": "stream",
     "text": [
      "Directed Graph:\n",
      "{'7': ['8'], '5': ['3', '7'], '3': ['2', '4'], '4': ['8']}\n"
     ]
    }
   ],
   "source": [
    "# Function to build the adjacency list for a directed graph with an optional starting point\n",
    "def build_directed_graph(edges, initial_nodes=None):\n",
    "    graph = {}  # Initialize an empty dictionary\n",
    "\n",
    "    # If there are initial nodes, add them to the graph with empty lists\n",
    "    if initial_nodes:\n",
    "        for node in initial_nodes:\n",
    "            graph[node] = []  # Initialize the adjacency list for the initial nodes\n",
    "\n",
    "    # Add edges to the graph\n",
    "    for edge in edges:\n",
    "        u, v = edge  # Unpack the edge into source and destination\n",
    "        if u not in graph:\n",
    "            graph[u] = []  # Create a new list for the source node\n",
    "        graph[u].append(v)  # Add the destination node to the source's adjacency list\n",
    "\n",
    "    return graph\n",
    "\n",
    "\n",
    "# List of directed edges\n",
    "edges = [(\"5\", \"3\"), (\"5\", \"7\"), (\"3\", \"2\"), (\"3\", \"4\"), (\"7\", \"8\"), (\"4\", \"8\")]\n",
    "\n",
    "# Example of using initial starting points\n",
    "initial_nodes = [\"7\"]  # Nodes not explicitly in the edges list\n",
    "\n",
    "# Build the directed graph with the initial starting points\n",
    "directed_graph = build_directed_graph(edges, initial_nodes)\n",
    "\n",
    "# Display the created adjacency list\n",
    "print(\"Directed Graph:\")\n",
    "print(directed_graph)"
   ]
  },
  {
   "cell_type": "code",
   "execution_count": 7,
   "metadata": {},
   "outputs": [
    {
     "name": "stdout",
     "output_type": "stream",
     "text": [
      "{0: [1], 1: [0, 2, 3], 2: [1], 3: [1, 4, 5], 4: [3], 5: [3]}\n"
     ]
    }
   ],
   "source": [
    "def build_adjacency_list(edge_vertex_id_pairs, edge_enabled):\n",
    "    \"\"\"\n",
    "    Given an GraphProcessor, return an undirected adjacency list (only enabled edges used).\n",
    "    \"\"\"\n",
    "\n",
    "    adjacency_list = {}\n",
    "    enabled_edges = [num for num, m in zip(edge_vertex_id_pairs, edge_enabled) if m]\n",
    "\n",
    "    for edge in enabled_edges:  # cycle through edge IDs\n",
    "        u, v = edge  # tuple unpacking\n",
    "\n",
    "        if u not in adjacency_list:  # check if list for vertex u exists\n",
    "            adjacency_list[u] = []\n",
    "        if v not in adjacency_list:  # check if list for vertex u exists\n",
    "            adjacency_list[v] = []\n",
    "\n",
    "        adjacency_list[u].append(v)\n",
    "        adjacency_list[v].append(u)\n",
    "\n",
    "    return adjacency_list\n",
    "\n",
    "\n",
    "vertex_ids = [0, 1, 2, 3, 4, 5]\n",
    "edge_ids = [1, 2, 3, 4, 5]\n",
    "edge_vertex_id_pairs = [(0, 1), (1, 2), (1, 3), (3, 4), (3, 5)]\n",
    "edge_enabled = [True, True, True, True, True]\n",
    "source_vertex_id = 0\n",
    "\n",
    "print(build_adjacency_list(edge_vertex_id_pairs, edge_enabled))"
   ]
  },
  {
   "cell_type": "code",
   "execution_count": 8,
   "metadata": {},
   "outputs": [
    {
     "name": "stdout",
     "output_type": "stream",
     "text": [
      "[1, 0, 2, 6, 3, 4, 5]\n",
      "{1: nan, 0: 1, 2: 1, 6: 2, 3: 1, 4: 3, 5: 3}\n"
     ]
    }
   ],
   "source": [
    "import graph_processing as tp\n",
    "\n",
    "vertex_ids = [0, 1, 2, 3, 4, 5, 6]\n",
    "edge_ids = [1, 2, 3, 4, 5, 6]\n",
    "edge_vertex_id_pairs = [(0, 1), (1, 2), (1, 3), (3, 4), (3, 5), (2, 6)]\n",
    "edge_enabled = [True, True, True, True, True, True]\n",
    "source_vertex_id = 0\n",
    "\n",
    "test1 = tp.GraphProcessor(\n",
    "    vertex_ids=vertex_ids,\n",
    "    edge_ids=edge_ids,\n",
    "    edge_vertex_id_pairs=edge_vertex_id_pairs,\n",
    "    edge_enabled=edge_enabled,\n",
    "    source_vertex_id=source_vertex_id,\n",
    ")\n",
    "\n",
    "vertex_visited = []\n",
    "vertex_parents = {}\n",
    "# receive adjacency list\n",
    "adjacency_list = test1.build_adjacency_list(edge_vertex_id_pairs, edge_enabled)\n",
    "test1.DFS(adjacency_list, vertex_visited, float(\"Nan\"), vertex_parents, 1)\n",
    "\n",
    "print(vertex_visited)\n",
    "print(vertex_parents)"
   ]
  },
  {
   "cell_type": "code",
   "execution_count": 9,
   "metadata": {},
   "outputs": [
    {
     "name": "stdout",
     "output_type": "stream",
     "text": [
      "Alternative edges: [8]\n"
     ]
    }
   ],
   "source": [
    "import graph_processing as tp\n",
    "\n",
    "vertex_ids = [0, 2, 4, 6, 10]  # All unique vertex ids\n",
    "edge_ids = [1, 3, 5, 7, 8, 9]  # All unique edge ids\n",
    "edge_vertex_id_pairs = [\n",
    "    (0, 2),  # edge 1\n",
    "    (0, 4),  # edge 3\n",
    "    (0, 6),  # edge 5\n",
    "    (2, 4),  # edge 7\n",
    "    (4, 6),  # edge 8\n",
    "    (2, 10),  # edge 9\n",
    "]\n",
    "edge_enabled = [True, True, True, False, False, True]  # Whether each edge is enabled or disabled\n",
    "source_vertex_id = 0  # ID of the source vertex\n",
    "disabled_edge_id = 5\n",
    "\n",
    "test2 = tp.GraphProcessor(\n",
    "    vertex_ids=vertex_ids,\n",
    "    edge_ids=edge_ids,\n",
    "    edge_vertex_id_pairs=edge_vertex_id_pairs,\n",
    "    edge_enabled=edge_enabled,\n",
    "    source_vertex_id=source_vertex_id,\n",
    ")\n",
    "\n",
    "alternative_edges = test2.find_alternative_edges(disabled_edge_id)\n",
    "print(\"Alternative edges:\", alternative_edges)"
   ]
  },
  {
   "cell_type": "code",
   "execution_count": 15,
   "metadata": {},
   "outputs": [],
   "source": [
    "import power_grid_model\n",
    "from power_grid_model import LoadGenType\n",
    "from power_grid_model import PowerGridModel\n",
    "from power_grid_model import initialize_array\n",
    "\n",
    "import pandas as pd\n",
    "import pytest  # Import pytest\n",
    "\n",
    "from power_system_simulation.input_data_validity_check import (\n",
    "    InvalidLVFeederIDError,\n",
    "    validity_check,\n",
    "    NotExactlyOneSourceError,\n",
    "    NotExactlyOneTransformerError,\n",
    ")  # Import power_system_simpulation.graphy_processing\n",
    "from power_system_simulation.power_flow_processing import PowerFlow\n",
    "\n",
    "# node\n",
    "node = initialize_array(\"input\", \"node\", 3)\n",
    "node[\"id\"] = [2, 4, 6]\n",
    "node[\"u_rated\"] = [1e4, 4e2, 4e2]\n",
    "\n",
    "# load\n",
    "sym_load = initialize_array(\"input\", \"sym_load\", 1)\n",
    "sym_load[\"id\"] = [7]\n",
    "sym_load[\"node\"] = [6]\n",
    "sym_load[\"status\"] = [1]\n",
    "sym_load[\"type\"] = [LoadGenType.const_power]\n",
    "sym_load[\"p_specified\"] = [1e3]\n",
    "sym_load[\"q_specified\"] = [5e3]\n",
    "\n",
    "# # source\n",
    "# source = initialize_array(\"input\", \"source\", 1)\n",
    "# source[\"id\"] = [1]\n",
    "# source[\"node\"] = [2]\n",
    "# source[\"status\"] = [1]\n",
    "# source[\"u_ref\"] = [1.0]\n",
    "\n",
    "# source\n",
    "source = initialize_array(\"input\", \"source\", 1)\n",
    "source[\"id\"] = [1]\n",
    "source[\"node\"] = [2]\n",
    "source[\"status\"] = [1]\n",
    "source[\"u_ref\"] = [1.0]\n",
    "\n",
    "# line\n",
    "line = initialize_array(\"input\", \"line\", 1)\n",
    "line[\"id\"] = [5]\n",
    "line[\"from_node\"] = [4]\n",
    "line[\"to_node\"] = [6]\n",
    "line[\"from_status\"] = [1]\n",
    "line[\"to_status\"] = [1]\n",
    "line[\"r1\"] = [10.0]\n",
    "line[\"x1\"] = [0.0]\n",
    "line[\"c1\"] = [0.0]\n",
    "line[\"tan1\"] = [0.0]\n",
    "\n",
    "# transformer\n",
    "transformer = initialize_array(\"input\", \"transformer\", 1)\n",
    "transformer[\"id\"] = [3]\n",
    "transformer[\"from_node\"] = [2]\n",
    "transformer[\"to_node\"] = [4]\n",
    "transformer[\"from_status\"] = [1]\n",
    "transformer[\"to_status\"] = [1]\n",
    "transformer[\"u1\"] = [1e4]\n",
    "transformer[\"u2\"] = [4e2]\n",
    "transformer[\"sn\"] = [1e5]\n",
    "transformer[\"uk\"] = [0.1]\n",
    "transformer[\"pk\"] = [1e3]\n",
    "transformer[\"i0\"] = [1.0e-6]\n",
    "transformer[\"p0\"] = [0.1]\n",
    "transformer[\"winding_from\"] = [2]\n",
    "transformer[\"winding_to\"] = [1]\n",
    "transformer[\"clock\"] = [5]\n",
    "transformer[\"tap_side\"] = [0]\n",
    "transformer[\"tap_pos\"] = [3]\n",
    "transformer[\"tap_min\"] = [-11]\n",
    "transformer[\"tap_max\"] = [9]\n",
    "transformer[\"tap_size\"] = [100]\n",
    "\n",
    "# all\n",
    "input_data = {\"node\": node, \"line\": line, \"sym_load\": sym_load, \"source\": source, \"transformer\": transformer}\n",
    "\n",
    "len(input_data[\"source\"])\n",
    "if len(input_data[\"source\"]) != 1:\n",
    "    raise NotExactlyOneSourceError(\"There is not exactly one source\")"
   ]
  }
 ],
 "metadata": {
  "kernelspec": {
   "display_name": "Python 3",
   "language": "python",
   "name": "python3"
  },
  "language_info": {
   "codemirror_mode": {
    "name": "ipython",
    "version": 3
   },
   "file_extension": ".py",
   "mimetype": "text/x-python",
   "name": "python",
   "nbconvert_exporter": "python",
   "pygments_lexer": "ipython3",
   "version": "3.12.3"
  }
 },
 "nbformat": 4,
 "nbformat_minor": 2
}
