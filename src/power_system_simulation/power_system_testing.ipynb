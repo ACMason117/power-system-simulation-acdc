{
 "cells": [
  {
   "cell_type": "code",
   "execution_count": 25,
   "metadata": {},
   "outputs": [],
   "source": [
    "import power_system_simulation as pss\n",
    "import pandas as pd\n",
    "from power_grid_model.utils import json_deserialize_from_file"
   ]
  },
  {
   "cell_type": "code",
   "execution_count": 26,
   "metadata": {},
   "outputs": [],
   "source": [
    "dataset = json_deserialize_from_file(\"input_network_data_assign3.json\")"
   ]
  },
  {
   "cell_type": "code",
   "execution_count": 27,
   "metadata": {},
   "outputs": [],
   "source": [
    "reactive_power_data = pd.read_parquet(\"reactive_power_profile_assign3.parquet\")"
   ]
  },
  {
   "cell_type": "code",
   "execution_count": 28,
   "metadata": {},
   "outputs": [],
   "source": [
    "active_power_data = pd.read_parquet(\"active_power_profile_assign3.parquet\")"
   ]
  },
  {
   "cell_type": "code",
   "execution_count": 29,
   "metadata": {},
   "outputs": [],
   "source": [
    "# declare new PowerSimModel object\n",
    "test1 = pss.PowerSim(grid_data=dataset)\n",
    "\n",
    "# PowerSim saves the model as PowerSimModel\n",
    "# access to assignment 2 functions is now given as\n",
    "batch_test = test1.PowerSimModel.batch_powerflow(\n",
    "    active_power_profile=active_power_data, reactive_power_profile=reactive_power_data\n",
    ")\n",
    "aggregate_test = test1.PowerSimModel.aggregate_voltage_table(\n",
    "    active_power_profile=active_power_data, reactive_power_profile=reactive_power_data\n",
    ")"
   ]
  },
  {
   "cell_type": "code",
   "execution_count": 30,
   "metadata": {},
   "outputs": [
    {
     "name": "stdout",
     "output_type": "stream",
     "text": [
      "PowerProfileNotFound: No active power profile provided.\n"
     ]
    }
   ],
   "source": [
    "try:\n",
    "    test1.optimal_tap_poisition()\n",
    "except:\n",
    "    print(\"PowerProfileNotFound: No active power profile provided.\")"
   ]
  },
  {
   "cell_type": "code",
   "execution_count": 31,
   "metadata": {},
   "outputs": [],
   "source": [
    "test2 = pss.PowerSim(\n",
    "    grid_data=dataset, active_power_profile=active_power_data, reactive_power_profile=reactive_power_data\n",
    ")"
   ]
  },
  {
   "cell_type": "markdown",
   "metadata": {},
   "source": [
    "## EV Penetration Testing"
   ]
  },
  {
   "cell_type": "code",
   "execution_count": 32,
   "metadata": {},
   "outputs": [],
   "source": [
    "import math\n",
    "import random\n",
    "import graph_processing as gp\n",
    "\n",
    "grid_data = json_deserialize_from_file(\"input_network_data_2.json\")\n",
    "# meta_data = json_deserialize_from_file(\"meta_data_2.json\")\n",
    "ev_active_power_profile = pd.read_parquet(\"ev_active_power_profile_2.parquet\")\n",
    "active_power_profile = pd.read_parquet(\"active_power_profile_2.parquet\")\n",
    "reactive_power_profile = pd.read_parquet(\"reactive_power_profile_2.parquet\")\n",
    "\n",
    "test1 = pss.PowerSim(grid_data=dataset)\n",
    "\n",
    "num_houses = 150\n",
    "penetration_level = 20\n",
    "num_feeders = 7"
   ]
  },
  {
   "cell_type": "code",
   "execution_count": 33,
   "metadata": {},
   "outputs": [
    {
     "name": "stdout",
     "output_type": "stream",
     "text": [
      "EVs per feeder: 4\n",
      "Found line with from_node 1: to_node = 2\n",
      "Warning: Fewer houses available (2) than EVs per feeder (4). Adjusting to use all available houses.\n",
      "Selected houses for EVs in feeder 16: [3, 5]\n",
      "Assigning EV profile 1 to house 3\n",
      "House 3 not found in active_power_profile columns\n",
      "Assigning EV profile 0 to house 5\n",
      "House 5 not found in active_power_profile columns\n",
      "Found line with from_node 1: to_node = 6\n",
      "Selected houses for EVs in feeder 20: [7, 9]\n",
      "Assigning EV profile 3 to house 7\n",
      "House 7 not found in active_power_profile columns\n",
      "Assigning EV profile 2 to house 9\n",
      "House 9 not found in active_power_profile columns\n",
      "                     Max_Voltage  Max_Voltage_Node  Min_Voltage  \\\n",
      "Timestamp                                                         \n",
      "2025-01-01 00:00:00     1.072931                 1     1.049819   \n",
      "2025-01-01 00:15:00     1.075911                 1     1.050022   \n",
      "2025-01-01 00:30:00     1.069725                 1     1.049603   \n",
      "2025-01-01 00:45:00     1.073244                 1     1.049842   \n",
      "2025-01-01 01:00:00     1.072924                 1     1.049819   \n",
      "...                          ...               ...          ...   \n",
      "2025-01-10 22:45:00     1.071457                 1     1.049730   \n",
      "2025-01-10 23:00:00     1.075341                 1     1.049993   \n",
      "2025-01-10 23:15:00     1.072623                 1     1.049803   \n",
      "2025-01-10 23:30:00     1.071624                 1     1.049741   \n",
      "2025-01-10 23:45:00     1.076290                 1     1.050056   \n",
      "\n",
      "                     Min_Voltage_Node  \n",
      "Timestamp                              \n",
      "2025-01-01 00:00:00                 0  \n",
      "2025-01-01 00:15:00                 0  \n",
      "2025-01-01 00:30:00                 0  \n",
      "2025-01-01 00:45:00                 0  \n",
      "2025-01-01 01:00:00                 0  \n",
      "...                               ...  \n",
      "2025-01-10 22:45:00                 0  \n",
      "2025-01-10 23:00:00                 0  \n",
      "2025-01-10 23:15:00                 0  \n",
      "2025-01-10 23:30:00                 0  \n",
      "2025-01-10 23:45:00                 0  \n",
      "\n",
      "[960 rows x 4 columns]\n",
      "         Total_Loss   Max_Loading Max_Loading_Timestamp   Min_Loading  \\\n",
      "Line_ID                                                                 \n",
      "16        26.709511  6.869324e-05   2025-01-04 06:30:00  1.253601e-05   \n",
      "17         1.128073  1.653650e-03   2025-01-04 09:45:00  2.697708e-04   \n",
      "18         9.100636  3.414478e-05   2025-01-07 10:45:00  5.617314e-06   \n",
      "19         1.220324  1.543576e-03   2025-01-07 10:45:00  2.496785e-04   \n",
      "20        27.361620  7.086133e-05   2025-01-07 10:45:00  1.172002e-05   \n",
      "21         1.132925  1.658966e-03   2025-01-07 10:30:00  2.550110e-04   \n",
      "22         8.584028  3.876018e-05   2025-01-07 10:45:00  5.715455e-06   \n",
      "23         1.345700  1.500068e-03   2025-01-07 10:45:00  2.202110e-04   \n",
      "24         2.725758  2.452007e-07   2025-01-10 21:15:00  2.418978e-07   \n",
      "\n",
      "        Min_Loading_Timestamp  \n",
      "Line_ID                        \n",
      "16        2025-01-08 12:30:00  \n",
      "17        2025-01-08 11:30:00  \n",
      "18        2025-01-05 17:45:00  \n",
      "19        2025-01-05 17:45:00  \n",
      "20        2025-01-02 14:30:00  \n",
      "21        2025-01-02 14:30:00  \n",
      "22        2025-01-02 12:30:00  \n",
      "23        2025-01-02 12:30:00  \n",
      "24        2025-01-04 09:45:00  \n"
     ]
    }
   ],
   "source": [
    "# Calculate number of EVs per feeder\n",
    "total_evs = math.floor(penetration_level * num_houses / 100)\n",
    "evs_per_feeder = math.floor(total_evs / num_feeders)\n",
    "print(f\"EVs per feeder: {evs_per_feeder}\")\n",
    "\n",
    "# Initialize the GraphProcessor to find downstream vertices\n",
    "edge_vertex_id_pairs = list(zip(grid_data[\"line\"][\"from_node\"], grid_data[\"line\"][\"to_node\"])) + list(\n",
    "    zip(grid_data[\"transformer\"][\"from_node\"], grid_data[\"transformer\"][\"to_node\"])\n",
    ")\n",
    "edge_enabled = [\n",
    "    (f_status == 1 and t_status == 1)\n",
    "    for f_status, t_status in zip(grid_data[\"line\"][\"from_status\"], grid_data[\"line\"][\"to_status\"])\n",
    "]\n",
    "edge_enabled += [(grid_data[\"transformer\"][\"from_status\"][0] == 1 and grid_data[\"transformer\"][\"to_status\"][0] == 1)]\n",
    "source_vertex_id = grid_data[\"source\"][\"node\"][0]\n",
    "edge_ids = list(grid_data[\"line\"][\"id\"]) + list(grid_data[\"transformer\"][\"id\"])\n",
    "vertex_ids = grid_data[\"node\"][\"id\"]\n",
    "\n",
    "test4 = gp.GraphProcessor(\n",
    "    vertex_ids=vertex_ids,\n",
    "    edge_ids=edge_ids,\n",
    "    edge_vertex_id_pairs=edge_vertex_id_pairs,\n",
    "    edge_enabled=edge_enabled,\n",
    "    source_vertex_id=source_vertex_id,\n",
    ")\n",
    "\n",
    "transformer_to_node = grid_data[\"transformer\"][\"to_node\"][0]\n",
    "\n",
    "assigned_profiles = set()\n",
    "for line in grid_data[\"line\"]:\n",
    "    if line[\"from_node\"] == transformer_to_node:\n",
    "        print(f\"Found line with from_node {transformer_to_node}: to_node = {line['to_node']}\")\n",
    "        downstream_vertices = test4.find_downstream_vertices(line[\"id\"])\n",
    "        sym_load_nodes = set(grid_data[\"sym_load\"][\"node\"])\n",
    "        common_nodes = sym_load_nodes.intersection(downstream_vertices)\n",
    "\n",
    "        common_nodes_list = sorted(common_nodes)\n",
    "\n",
    "        # Check if the number of EVs per feeder is greater than the available houses\n",
    "        if len(common_nodes_list) < evs_per_feeder:\n",
    "            print(\n",
    "                f\"Warning: Fewer houses available ({len(common_nodes_list)}) than EVs per feeder ({evs_per_feeder}). Adjusting to use all available houses.\"\n",
    "            )\n",
    "            evs_per_feeder = len(common_nodes_list)\n",
    "\n",
    "        selected_houses = random.sample(common_nodes_list, evs_per_feeder)\n",
    "        print(f\"Selected houses for EVs in feeder {line['id']}: {selected_houses}\")\n",
    "\n",
    "        available_ev_profiles = list(set(ev_active_power_profile.columns) - assigned_profiles)\n",
    "\n",
    "        selected_ev_profiles = random.sample(available_ev_profiles, evs_per_feeder)\n",
    "        assigned_profiles.update(selected_ev_profiles)\n",
    "\n",
    "        for house, ev_profile in zip(selected_houses, selected_ev_profiles):\n",
    "            # Debugging: Print house and ev_profile\n",
    "            print(f\"Assigning EV profile {ev_profile} to house {house}\")\n",
    "            if house not in active_power_profile.columns:\n",
    "                print(f\"House {house} not found in active_power_profile columns\")\n",
    "            if ev_profile not in ev_active_power_profile.columns:\n",
    "                print(f\"EV profile {ev_profile} not found in ev_active_power_profile columns\")\n",
    "            # Ensure the house and ev_profile are present in the respective DataFrames\n",
    "            if house in active_power_profile.columns and ev_profile in ev_active_power_profile.columns:\n",
    "                active_power_profile[house] += ev_active_power_profile[ev_profile]\n",
    "\n",
    "# Run time-series power flow after assigning EV profiles\n",
    "voltage_table = test1.PowerSimModel.aggregate_voltage_table(active_power_profile, reactive_power_profile)\n",
    "loading_table = test1.PowerSimModel.aggregate_loading_table(active_power_profile, reactive_power_profile)\n",
    "\n",
    "print(voltage_table)\n",
    "print(loading_table)"
   ]
  },
  {
   "cell_type": "code",
   "execution_count": 35,
   "metadata": {},
   "outputs": [
    {
     "name": "stdout",
     "output_type": "stream",
     "text": [
      "5\n",
      "1\n"
     ]
    }
   ],
   "source": [
    "from power_system_simulation import VoltageDeviation\n",
    "from power_system_simulation import TotalEnergyLoss\n",
    "\n",
    "optimal_tap = test1.optimal_tap_position(\n",
    "    active_power_profile=active_power_profile,\n",
    "    reactive_power_profile=reactive_power_profile,\n",
    "    opt_criteria=TotalEnergyLoss,\n",
    ")\n",
    "\n",
    "print(optimal_tap)\n",
    "\n",
    "optimal_tap = test1.optimal_tap_position(\n",
    "    active_power_profile=active_power_profile,\n",
    "    reactive_power_profile=reactive_power_profile,\n",
    "    opt_criteria=VoltageDeviation,\n",
    ")\n",
    "\n",
    "print(optimal_tap)"
   ]
  }
 ],
 "metadata": {
  "kernelspec": {
   "display_name": ".venv",
   "language": "python",
   "name": "python3"
  },
  "language_info": {
   "codemirror_mode": {
    "name": "ipython",
    "version": 3
   },
   "file_extension": ".py",
   "mimetype": "text/x-python",
   "name": "python",
   "nbconvert_exporter": "python",
   "pygments_lexer": "ipython3",
   "version": "3.12.3"
  }
 },
 "nbformat": 4,
 "nbformat_minor": 2
}
