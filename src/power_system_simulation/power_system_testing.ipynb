{
 "cells": [
  {
   "cell_type": "code",
   "execution_count": 1,
   "metadata": {},
   "outputs": [],
   "source": [
    "import power_system_simulation as pss\n",
    "import pandas as pd\n",
    "from power_grid_model.utils import json_deserialize_from_file"
   ]
  },
  {
   "cell_type": "code",
   "execution_count": 2,
   "metadata": {},
   "outputs": [],
   "source": [
    "dataset = json_deserialize_from_file(\"input_network_data_assign3.json\")"
   ]
  },
  {
   "cell_type": "code",
   "execution_count": 3,
   "metadata": {},
   "outputs": [],
   "source": [
    "reactive_power_data = pd.read_parquet(\"reactive_power_profile_assign3.parquet\")"
   ]
  },
  {
   "cell_type": "code",
   "execution_count": 4,
   "metadata": {},
   "outputs": [],
   "source": [
    "active_power_data = pd.read_parquet(\"active_power_profile_assign3.parquet\")"
   ]
  },
  {
   "cell_type": "code",
   "execution_count": 5,
   "metadata": {},
   "outputs": [],
   "source": [
    "# declare new PowerSimModel object\n",
    "test1 = pss.PowerSim(grid_data=dataset)\n",
    "\n",
    "# PowerSim saves the model as PowerSimModel\n",
    "# access to assignment 2 functions is now given as\n",
    "batch_test = test1.PowerSimModel.batch_powerflow(\n",
    "    active_power_profile=active_power_data, reactive_power_profile=reactive_power_data\n",
    ")\n",
    "aggregate_test = test1.PowerSimModel.aggregate_voltage_table(\n",
    "    active_power_profile=active_power_data, reactive_power_profile=reactive_power_data\n",
    ")"
   ]
  },
  {
   "cell_type": "code",
   "execution_count": 6,
   "metadata": {},
   "outputs": [
    {
     "name": "stdout",
     "output_type": "stream",
     "text": [
      "PowerProfileNotFound: No active power profile provided.\n"
     ]
    }
   ],
   "source": [
    "try:\n",
    "    test1.optimal_tap_poisition()\n",
    "except:\n",
    "    print(\"PowerProfileNotFound: No active power profile provided.\")"
   ]
  },
  {
   "cell_type": "code",
   "execution_count": null,
   "metadata": {},
   "outputs": [],
   "source": [
    "test2 = pss.PowerSim(grid_data=dataset, active_power_profile=active_power_data, reactive_power_profile=reactive_power_data)"
   ]
  }
 ],
 "metadata": {
  "kernelspec": {
   "display_name": ".venv",
   "language": "python",
   "name": "python3"
  },
  "language_info": {
   "codemirror_mode": {
    "name": "ipython",
    "version": 3
   },
   "file_extension": ".py",
   "mimetype": "text/x-python",
   "name": "python",
   "nbconvert_exporter": "python",
   "pygments_lexer": "ipython3",
   "version": "3.12.3"
  }
 },
 "nbformat": 4,
 "nbformat_minor": 2
}
