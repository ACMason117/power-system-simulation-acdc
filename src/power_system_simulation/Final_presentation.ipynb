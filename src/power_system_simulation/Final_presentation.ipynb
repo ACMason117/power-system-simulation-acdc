{
 "cells": [
  {
   "cell_type": "markdown",
   "metadata": {},
   "source": [
    "# Final Presentation ACDC\n",
    "\n",
    "In this notebook we will walk through examples of this package. The following points are covered: \n",
    "- Find downstream vertices\n",
    "- Find alternative edges\n",
    "- Handle PGM input format\n",
    "- Raise errors if the data is incorrect. \n",
    "- Aggreate the power flow results in tables. \n",
    "- Show tables with data of powerflow calculations. \n",
    "- Calculate EV penetration levels. \n",
    "- Calculate optimal tap positions. \n",
    "- Do N-1 Calculations. "
   ]
  },
  {
   "cell_type": "markdown",
   "metadata": {},
   "source": [
    "# Input dataset\n",
    "\n",
    "We create an input dataset by using the following parameters: \n",
    "- vertex_ids\n",
    "- edge_ids\n",
    "- edge_vertex_id_pairs\n",
    "- edge_enabled\n",
    "- source_vertex_id"
   ]
  },
  {
   "cell_type": "code",
   "execution_count": 1,
   "metadata": {},
   "outputs": [],
   "source": [
    "vertex_ids = [0, 2, 4, 6, 10]  # All unique vertex ids\n",
    "edge_ids = [1, 3, 5, 7, 8, 9]  # All unique edge ids\n",
    "edge_vertex_id_pairs = [\n",
    "        (0, 2),  # edge 1\n",
    "        (0, 4),  # edge 3\n",
    "        (0, 6),  # edge 5\n",
    "        (2, 4),  # edge 7\n",
    "        (4, 6),  # edge 8\n",
    "        (2, 10),  # edge 9\n",
    "    ]\n",
    "edge_enabled = [True, True, True, False, False, True]  # Whether each edge is enabled or disabled\n",
    "source_vertex_id = 0  # ID of the source vertex"
   ]
  },
  {
   "cell_type": "markdown",
   "metadata": {},
   "source": [
    "This will give the following graph: "
   ]
  },
  {
   "cell_type": "code",
   "execution_count": 2,
   "metadata": {},
   "outputs": [
    {
     "data": {
      "text/plain": [
       "'      \\nvertex_0 (source) --edge_1(enabled)-- vertex_2 --edge_9(enabled)-- vertex_10\\n                 |                               |\\n                 |                           edge_7(disabled)\\n                 |                               |\\n                 -----------edge_3(enabled)-- vertex_4\\n                 |                               |\\n                 |                           edge_8(disabled)\\n                 |                               |\\n                 -----------edge_5(enabled)-- vertex_6\\n'"
      ]
     },
     "execution_count": 2,
     "metadata": {},
     "output_type": "execute_result"
    }
   ],
   "source": [
    "'''      \n",
    "vertex_0 (source) --edge_1(enabled)-- vertex_2 --edge_9(enabled)-- vertex_10\n",
    "                 |                               |\n",
    "                 |                           edge_7(disabled)\n",
    "                 |                               |\n",
    "                 -----------edge_3(enabled)-- vertex_4\n",
    "                 |                               |\n",
    "                 |                           edge_8(disabled)\n",
    "                 |                               |\n",
    "                 -----------edge_5(enabled)-- vertex_6\n",
    "'''"
   ]
  },
  {
   "cell_type": "markdown",
   "metadata": {},
   "source": [
    "# Validation\n",
    "This graph is tested for the following conditions: \n",
    "1. vertex_ids and edge_ids should be unique\n",
    "2. edge_vertex_id_pairs should have the same length as edge_ids\n",
    "3. edge_vertex_id_pairs should contain valid vertex ids\n",
    "4. edge_enabled should have the same length as edge_ids\n",
    "5. source_vertex_id should be a valid vertex id\n",
    "6. The graph should not contain cycles\n",
    "7. The graph should be fully connected\n",
    "8. Multiple edges should not connect the same two vertices. "
   ]
  }
 ],
 "metadata": {
  "kernelspec": {
   "display_name": "Python 3",
   "language": "python",
   "name": "python3"
  },
  "language_info": {
   "codemirror_mode": {
    "name": "ipython",
    "version": 3
   },
   "file_extension": ".py",
   "mimetype": "text/x-python",
   "name": "python",
   "nbconvert_exporter": "python",
   "pygments_lexer": "ipython3",
   "version": "3.12.3"
  }
 },
 "nbformat": 4,
 "nbformat_minor": 2
}
