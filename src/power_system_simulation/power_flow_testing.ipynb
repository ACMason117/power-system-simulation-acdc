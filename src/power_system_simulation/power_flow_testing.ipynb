{
 "cells": [
  {
   "cell_type": "markdown",
   "metadata": {},
   "source": [
    "Code to test power_flow_processing library"
   ]
  },
  {
   "cell_type": "code",
   "execution_count": 1,
   "metadata": {},
   "outputs": [],
   "source": [
    "import power_flow_processing as pfp\n",
    "import pandas as pd\n",
    "from power_grid_model.utils import json_deserialize_from_file\n",
    "import numpy as np"
   ]
  },
  {
   "cell_type": "code",
   "execution_count": 2,
   "metadata": {},
   "outputs": [
    {
     "name": "stdout",
     "output_type": "stream",
     "text": [
      "<class 'dict'>\n",
      "          0\n",
      "0      node\n",
      "1      line\n",
      "2    source\n",
      "3  sym_load\n",
      "   id  from_node  to_node  from_status  to_status    r1   x1       c1  tan1  \\\n",
      "0   5          1        2            1          1  0.25  0.2  0.00001   0.0   \n",
      "1   6          2        3            1          1  0.25  0.2  0.00001   0.0   \n",
      "2   7          3        4            1          1  0.25  0.2  0.00001   0.0   \n",
      "\n",
      "   r0  x0  c0  tan0     i_n  \n",
      "0 NaN NaN NaN   NaN  1000.0  \n",
      "1 NaN NaN NaN   NaN  1000.0  \n",
      "2 NaN NaN NaN   NaN  1000.0  \n",
      "   id  u_rated\n",
      "0   1  10500.0\n",
      "1   2  10500.0\n",
      "2   3  10500.0\n",
      "3   4  10500.0\n",
      "   id  node  status  u_ref  u_ref_angle           sk  rx_ratio  z01_ratio\n",
      "0  11     1       1    1.0          NaN  200000000.0       NaN        NaN\n",
      "   id  node  status  type  p_specified  q_specified\n",
      "0   8     2       1     0          0.0          0.0\n",
      "1   9     3       1     0          0.0          0.0\n",
      "2  10     4       1     0          0.0          0.0\n"
     ]
    }
   ],
   "source": [
    "# with open(\"input_network_data.json\") as fp:\n",
    "#     data = fp.read()\n",
    "# pprint.pprint(json.loads(data))\n",
    "\n",
    "dataset = json_deserialize_from_file(\"input_network_data.json\")\n",
    "\n",
    "print(type(dataset))\n",
    "print(pd.DataFrame(dataset.keys()))\n",
    "\n",
    "print(pd.DataFrame(dataset['line']))\n",
    "print(pd.DataFrame(dataset['node']))\n",
    "print(pd.DataFrame(dataset['source']))\n",
    "print(pd.DataFrame(dataset['sym_load']))"
   ]
  },
  {
   "cell_type": "code",
   "execution_count": 3,
   "metadata": {},
   "outputs": [
    {
     "name": "stdout",
     "output_type": "stream",
     "text": [
      "<class 'pandas.core.frame.DataFrame'>\n",
      "[Timestamp('2024-01-01 00:00:00'), Timestamp('2024-01-01 01:00:00'), Timestamp('2024-01-01 02:00:00'), Timestamp('2024-01-01 03:00:00'), Timestamp('2024-01-01 04:00:00'), Timestamp('2024-01-01 05:00:00'), Timestamp('2024-01-01 06:00:00'), Timestamp('2024-01-01 07:00:00'), Timestamp('2024-01-01 08:00:00'), Timestamp('2024-01-01 09:00:00')]\n"
     ]
    }
   ],
   "source": [
    "active_power_data = pd.read_parquet('active_power_profile.parquet')\n",
    "print(type(active_power_data))\n",
    "\n",
    "print(active_power_data.index.tolist())"
   ]
  },
  {
   "cell_type": "code",
   "execution_count": 4,
   "metadata": {},
   "outputs": [
    {
     "name": "stdout",
     "output_type": "stream",
     "text": [
      "<class 'pandas.core.frame.DataFrame'>\n",
      "Load_ID                         8              9              10\n",
      "Timestamp                                                       \n",
      "2024-01-01 00:00:00   97627.007855  430378.732745  205526.752143\n",
      "2024-01-01 01:00:00   89766.365994 -152690.401322  291788.226133\n",
      "2024-01-01 02:00:00 -124825.577475  783546.001564  927325.521002\n",
      "2024-01-01 03:00:00 -233116.962348  583450.076165   57789.839506\n",
      "2024-01-01 04:00:00  136089.122188  851193.276585 -857927.883604\n",
      "2024-01-01 05:00:00 -825741.400597 -959563.205119  665239.691096\n",
      "2024-01-01 06:00:00  556313.501900  740024.296494  957236.684466\n",
      "2024-01-01 07:00:00  598317.128433  -77041.275494  561058.352573\n",
      "2024-01-01 08:00:00 -763451.148262  279842.042655 -713293.425182\n",
      "2024-01-01 09:00:00  889337.834099   43696.643500 -170676.120019\n"
     ]
    }
   ],
   "source": [
    "reactive_power_data = pd.read_parquet('active_power_profile.parquet')\n",
    "print(type(reactive_power_data))\n",
    "\n",
    "print(reactive_power_data)\n"
   ]
  },
  {
   "cell_type": "code",
   "execution_count": 5,
   "metadata": {},
   "outputs": [
    {
     "name": "stdout",
     "output_type": "stream",
     "text": [
      "            Timestamp  max_id  u_pu_max  min_id  u_pu_min\n",
      "0 2024-01-01 00:00:00       1  1.001126       4  0.997504\n",
      "1 2024-01-01 01:00:00       3  1.004964       1  1.003940\n",
      "2 2024-01-01 02:00:00       1  0.996233       4  0.981468\n",
      "3 2024-01-01 03:00:00       1  1.002937       3  1.001172\n",
      "4 2024-01-01 04:00:00       4  1.010267       1  1.004481\n",
      "5 2024-01-01 05:00:00       3  1.019485       1  1.011274\n",
      "6 2024-01-01 06:00:00       1  0.992400       4  0.974659\n",
      "7 2024-01-01 07:00:00       1  0.999169       4  0.993243\n",
      "8 2024-01-01 08:00:00       4  1.023922       1  1.011689\n",
      "9 2024-01-01 09:00:00       4  1.001906       2  0.999437\n"
     ]
    }
   ],
   "source": [
    "grid1 = pfp.PowerFlow(grid_data=dataset)\n",
    "\n",
    "output_data = grid1.batch_powerflow(active_power_profile=active_power_data, reactive_power_profile=reactive_power_data)\n",
    "\n",
    "print(grid1.aggregate_voltage_table(active_power_profile=active_power_data, reactive_power_profile=reactive_power_data))\n"
   ]
  },
  {
   "cell_type": "code",
   "execution_count": 6,
   "metadata": {},
   "outputs": [
    {
     "name": "stdout",
     "output_type": "stream",
     "text": [
      "            Timestamp  max_id  u_pu_max  min_id  u_pu_min\n",
      "0 2024-01-01 00:00:00       1  1.001126       4  0.997504\n",
      "1 2024-01-01 01:00:00       3  1.004964       1  1.003940\n",
      "2 2024-01-01 02:00:00       1  0.996233       4  0.981468\n",
      "3 2024-01-01 03:00:00       1  1.002937       3  1.001172\n",
      "4 2024-01-01 04:00:00       4  1.010267       1  1.004481\n",
      "5 2024-01-01 05:00:00       3  1.019485       1  1.011274\n",
      "6 2024-01-01 06:00:00       1  0.992400       4  0.974659\n",
      "7 2024-01-01 07:00:00       1  0.999169       4  0.993243\n",
      "8 2024-01-01 08:00:00       4  1.023922       1  1.011689\n",
      "9 2024-01-01 09:00:00       4  1.001906       2  0.999437\n"
     ]
    }
   ],
   "source": [
    "voltage_table = pd.DataFrame()\n",
    "\n",
    "voltage_table[\"Timestamp\"] = active_power_data.index.tolist()\n",
    "voltage_table[\"max_id\"] = output_data[\"node\"][:, pd.DataFrame(output_data[\"node\"][\"u_pu\"][:, :]).idxmax(axis=1).tolist() ][\"id\"][0, :]\n",
    "voltage_table[\"u_pu_max\"] = pd.DataFrame(output_data[\"node\"][\"u_pu\"][:, :]).max(axis=1).tolist()\n",
    "voltage_table[\"min_id\"] = output_data[\"node\"][:, pd.DataFrame(output_data[\"node\"][\"u_pu\"][:, :]).idxmin(axis=1).tolist() ][\"id\"][0, :]\n",
    "voltage_table[\"u_pu_min\"] = pd.DataFrame(output_data[\"node\"][\"u_pu\"][:, :]).min(axis=1).tolist()\n",
    "\n",
    "\n",
    "\n",
    "print(pd.DataFrame(voltage_table))"
   ]
  },
  {
   "cell_type": "code",
   "execution_count": null,
   "metadata": {},
   "outputs": [],
   "source": []
  },
  {
   "cell_type": "markdown",
   "metadata": {},
   "source": [
    "Error testing"
   ]
  },
  {
   "cell_type": "code",
   "execution_count": 7,
   "metadata": {},
   "outputs": [
    {
     "ename": "ValidationException",
     "evalue": "There are 2 validation errors in input_data:\n   1. Fields line.id and sym_power_sensor.id are not unique for 2 lines/sym_power_sensors.\n   2. Field 'to_node' does not contain a valid node id for 1 line.",
     "output_type": "error",
     "traceback": [
      "\u001b[1;31m---------------------------------------------------------------------------\u001b[0m",
      "\u001b[1;31mValidationException\u001b[0m                       Traceback (most recent call last)",
      "Cell \u001b[1;32mIn[7], line 34\u001b[0m\n\u001b[0;32m     30\u001b[0m sensor_error[\u001b[38;5;124m\"\u001b[39m\u001b[38;5;124mpower_sigma\u001b[39m\u001b[38;5;124m\"\u001b[39m] \u001b[38;5;241m=\u001b[39m [\u001b[38;5;241m0\u001b[39m]\n\u001b[0;32m     32\u001b[0m error_data \u001b[38;5;241m=\u001b[39m {\u001b[38;5;124m\"\u001b[39m\u001b[38;5;124mnode\u001b[39m\u001b[38;5;124m\"\u001b[39m: node_error, \u001b[38;5;124m\"\u001b[39m\u001b[38;5;124mline\u001b[39m\u001b[38;5;124m\"\u001b[39m: line_error, \u001b[38;5;124m\"\u001b[39m\u001b[38;5;124msym_power_sensor\u001b[39m\u001b[38;5;124m\"\u001b[39m: sensor_error}\n\u001b[1;32m---> 34\u001b[0m \u001b[43mpfp\u001b[49m\u001b[38;5;241;43m.\u001b[39;49m\u001b[43mPowerFlow\u001b[49m\u001b[43m(\u001b[49m\u001b[43mgrid_data\u001b[49m\u001b[38;5;241;43m=\u001b[39;49m\u001b[43merror_data\u001b[49m\u001b[43m)\u001b[49m\n",
      "File \u001b[1;32mc:\\Users\\20200821\\Documents\\GitHub\\power-system-simulation-acdc\\src\\power_system_simulation\\power_flow_processing.py:49\u001b[0m, in \u001b[0;36mPowerFlow.__init__\u001b[1;34m(self, grid_data)\u001b[0m\n\u001b[0;32m     40\u001b[0m \u001b[38;5;28;01mdef\u001b[39;00m \u001b[38;5;21m__init__\u001b[39m(\u001b[38;5;28mself\u001b[39m, grid_data: \u001b[38;5;28mdict\u001b[39m) \u001b[38;5;241m-\u001b[39m\u001b[38;5;241m>\u001b[39m \u001b[38;5;28;01mNone\u001b[39;00m:\n\u001b[0;32m     41\u001b[0m \u001b[38;5;250m    \u001b[39m\u001b[38;5;124;03m\"\"\"Load grid_data in class 'PowerFlow' upon instantiation\u001b[39;00m\n\u001b[0;32m     42\u001b[0m \n\u001b[0;32m     43\u001b[0m \u001b[38;5;124;03m    Args:\u001b[39;00m\n\u001b[1;32m   (...)\u001b[0m\n\u001b[0;32m     46\u001b[0m \u001b[38;5;124;03m        reactive_power_profile: Reactive power profile time data. Class pyarrow.table.\u001b[39;00m\n\u001b[0;32m     47\u001b[0m \u001b[38;5;124;03m    \"\"\"\u001b[39;00m\n\u001b[1;32m---> 49\u001b[0m     \u001b[43massert_valid_input_data\u001b[49m\u001b[43m(\u001b[49m\u001b[43minput_data\u001b[49m\u001b[38;5;241;43m=\u001b[39;49m\u001b[43mgrid_data\u001b[49m\u001b[43m,\u001b[49m\u001b[43m \u001b[49m\u001b[43msymmetric\u001b[49m\u001b[38;5;241;43m=\u001b[39;49m\u001b[38;5;28;43;01mTrue\u001b[39;49;00m\u001b[43m,\u001b[49m\u001b[43m \u001b[49m\u001b[43mcalculation_type\u001b[49m\u001b[38;5;241;43m=\u001b[39;49m\u001b[43mCalculationType\u001b[49m\u001b[38;5;241;43m.\u001b[39;49m\u001b[43mpower_flow\u001b[49m\u001b[43m)\u001b[49m\n\u001b[0;32m     51\u001b[0m     \u001b[38;5;28mself\u001b[39m\u001b[38;5;241m.\u001b[39mgrid_data \u001b[38;5;241m=\u001b[39m grid_data\n\u001b[0;32m     53\u001b[0m     \u001b[38;5;66;03m# do not delete the next two lines!!!!\u001b[39;00m\n\u001b[0;32m     54\u001b[0m     \u001b[38;5;66;03m# self.active_power_profile = active_power_profile\u001b[39;00m\n\u001b[0;32m     55\u001b[0m     \u001b[38;5;66;03m# self.reactive_power_profile = reactive_power_profile\u001b[39;00m\n",
      "File \u001b[1;32mc:\\Users\\20200821\\Documents\\GitHub\\power-system-simulation-acdc\\.venv\\Lib\\site-packages\\power_grid_model\\validation\\assertions.py:57\u001b[0m, in \u001b[0;36massert_valid_input_data\u001b[1;34m(input_data, calculation_type, symmetric)\u001b[0m\n\u001b[0;32m     53\u001b[0m validation_errors \u001b[38;5;241m=\u001b[39m validate_input_data(\n\u001b[0;32m     54\u001b[0m     input_data\u001b[38;5;241m=\u001b[39minput_data, calculation_type\u001b[38;5;241m=\u001b[39mcalculation_type, symmetric\u001b[38;5;241m=\u001b[39msymmetric\n\u001b[0;32m     55\u001b[0m )\n\u001b[0;32m     56\u001b[0m \u001b[38;5;28;01mif\u001b[39;00m validation_errors:\n\u001b[1;32m---> 57\u001b[0m     \u001b[38;5;28;01mraise\u001b[39;00m ValidationException(validation_errors, \u001b[38;5;124m\"\u001b[39m\u001b[38;5;124minput_data\u001b[39m\u001b[38;5;124m\"\u001b[39m)\n",
      "\u001b[1;31mValidationException\u001b[0m: There are 2 validation errors in input_data:\n   1. Fields line.id and sym_power_sensor.id are not unique for 2 lines/sym_power_sensors.\n   2. Field 'to_node' does not contain a valid node id for 1 line."
     ]
    }
   ],
   "source": [
    "from power_grid_model import PowerGridModel, initialize_array\n",
    "import power_flow_processing as pfp\n",
    "\n",
    "# A power grid containing several errors\n",
    "\n",
    "# node\n",
    "node_error = initialize_array(\"input\", \"node\", 3)\n",
    "node_error[\"id\"] = [1, 2, 3]\n",
    "node_error[\"u_rated\"] = [10.5e3]\n",
    "\n",
    "# line\n",
    "line_error = initialize_array(\"input\", \"line\", 3)\n",
    "line_error[\"id\"] = [4, 5, 6]\n",
    "line_error[\"from_node\"] = [1, 2, 3]\n",
    "line_error[\"to_node\"] = [2, 3, 4]\n",
    "line_error[\"from_status\"] = [True]\n",
    "line_error[\"to_status\"] = [True]\n",
    "line_error[\"r1\"] = [0.25]\n",
    "line_error[\"x1\"] = [0.2]\n",
    "line_error[\"c1\"] = [10e-6]\n",
    "line_error[\"tan1\"] = [0.0]\n",
    "\n",
    "# Power Sensor\n",
    "sensor_error = initialize_array(\"input\", \"sym_power_sensor\", 2)\n",
    "sensor_error[\"id\"] = [6, 7]\n",
    "sensor_error[\"measured_object\"] = [3, 4]\n",
    "sensor_error[\"measured_terminal_type\"] = [0, 2]\n",
    "sensor_error[\"p_measured\"] = [0]\n",
    "sensor_error[\"q_measured\"] = [0]\n",
    "sensor_error[\"power_sigma\"] = [0]\n",
    "\n",
    "error_data = {\"node\": node_error, \"line\": line_error, \"sym_power_sensor\": sensor_error}\n",
    "\n",
    "pfp.PowerFlow(grid_data=error_data)"
   ]
  }
 ],
 "metadata": {
  "kernelspec": {
   "display_name": ".venv",
   "language": "python",
   "name": "python3"
  },
  "language_info": {
   "codemirror_mode": {
    "name": "ipython",
    "version": 3
   },
   "file_extension": ".py",
   "mimetype": "text/x-python",
   "name": "python",
   "nbconvert_exporter": "python",
   "pygments_lexer": "ipython3",
   "version": "3.12.3"
  }
 },
 "nbformat": 4,
 "nbformat_minor": 2
}
