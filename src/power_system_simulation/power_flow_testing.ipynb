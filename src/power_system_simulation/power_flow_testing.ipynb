{
 "cells": [
  {
   "cell_type": "markdown",
   "metadata": {},
   "source": [
    "Code to test power_flow_processing library"
   ]
  },
  {
   "cell_type": "code",
   "execution_count": 1,
   "metadata": {},
   "outputs": [],
   "source": [
    "import power_flow_processing as pfp\n",
    "import pandas as pd\n",
    "from power_grid_model.utils import json_deserialize_from_file\n",
    "import numpy as np\n",
    "import scipy as sp"
   ]
  },
  {
   "cell_type": "code",
   "execution_count": 2,
   "metadata": {},
   "outputs": [
    {
     "name": "stdout",
     "output_type": "stream",
     "text": [
      "<class 'dict'>\n",
      "          0\n",
      "0      node\n",
      "1      line\n",
      "2    source\n",
      "3  sym_load\n",
      "   id  from_node  to_node  from_status  to_status    r1   x1       c1  tan1  \\\n",
      "0   5          1        2            1          1  0.25  0.2  0.00001   0.0   \n",
      "1   6          2        3            1          1  0.25  0.2  0.00001   0.0   \n",
      "2   7          3        4            1          1  0.25  0.2  0.00001   0.0   \n",
      "\n",
      "   r0  x0  c0  tan0     i_n  \n",
      "0 NaN NaN NaN   NaN  1000.0  \n",
      "1 NaN NaN NaN   NaN  1000.0  \n",
      "2 NaN NaN NaN   NaN  1000.0  \n",
      "   id  u_rated\n",
      "0   1  10500.0\n",
      "1   2  10500.0\n",
      "2   3  10500.0\n",
      "3   4  10500.0\n",
      "   id  node  status  u_ref  u_ref_angle           sk  rx_ratio  z01_ratio\n",
      "0  11     1       1    1.0          NaN  200000000.0       NaN        NaN\n",
      "   id  node  status  type  p_specified  q_specified\n",
      "0   8     2       1     0          0.0          0.0\n",
      "1   9     3       1     0          0.0          0.0\n",
      "2  10     4       1     0          0.0          0.0\n"
     ]
    }
   ],
   "source": [
    "# with open(\"input_network_data.json\") as fp:\n",
    "#     data = fp.read()\n",
    "# pprint.pprint(json.loads(data))\n",
    "\n",
    "dataset = json_deserialize_from_file(\"input_network_data.json\")\n",
    "\n",
    "print(type(dataset))\n",
    "print(pd.DataFrame(dataset.keys()))\n",
    "\n",
    "print(pd.DataFrame(dataset[\"line\"]))\n",
    "print(pd.DataFrame(dataset[\"node\"]))\n",
    "print(pd.DataFrame(dataset[\"source\"]))\n",
    "print(pd.DataFrame(dataset[\"sym_load\"]))"
   ]
  },
  {
   "cell_type": "code",
   "execution_count": 3,
   "metadata": {},
   "outputs": [
    {
     "name": "stdout",
     "output_type": "stream",
     "text": [
      "<class 'pandas.core.frame.DataFrame'>\n",
      "Load_ID                         8              9              10\n",
      "Timestamp                                                       \n",
      "2024-01-01 00:00:00   97627.007855  430378.732745  205526.752143\n",
      "2024-01-01 01:00:00   89766.365994 -152690.401322  291788.226133\n",
      "2024-01-01 02:00:00 -124825.577475  783546.001564  927325.521002\n",
      "2024-01-01 03:00:00 -233116.962348  583450.076165   57789.839506\n",
      "2024-01-01 04:00:00  136089.122188  851193.276585 -857927.883604\n",
      "2024-01-01 05:00:00 -825741.400597 -959563.205119  665239.691096\n",
      "2024-01-01 06:00:00  556313.501900  740024.296494  957236.684466\n",
      "2024-01-01 07:00:00  598317.128433  -77041.275494  561058.352573\n",
      "2024-01-01 08:00:00 -763451.148262  279842.042655 -713293.425182\n",
      "2024-01-01 09:00:00  889337.834099   43696.643500 -170676.120019\n"
     ]
    }
   ],
   "source": [
    "active_power_data = pd.read_parquet(\"active_power_profile.parquet\")\n",
    "print(type(active_power_data))\n",
    "\n",
    "print(active_power_data)"
   ]
  },
  {
   "cell_type": "code",
   "execution_count": 4,
   "metadata": {},
   "outputs": [
    {
     "name": "stdout",
     "output_type": "stream",
     "text": [
      "Load_ID                         8              9              10\n",
      "Timestamp                                                       \n",
      "2024-01-01 00:00:00 -470888.775791  548467.378868  -87699.335567\n",
      "2024-01-01 01:00:00  136867.897737 -962420.399127  235270.994152\n",
      "2024-01-01 02:00:00  224191.445445  233867.993750  887496.157029\n",
      "2024-01-01 03:00:00  363640.598207 -280984.198852 -125936.092401\n",
      "2024-01-01 04:00:00  395262.391855 -879549.056741  333533.430891\n",
      "2024-01-01 05:00:00  341275.739236 -579234.877852 -742147.404690\n",
      "2024-01-01 06:00:00 -369143.298152 -272578.458115  140393.540836\n",
      "2024-01-01 07:00:00 -122796.973075  976747.676118 -795910.378504\n",
      "2024-01-01 08:00:00 -582246.487810 -677380.964230  306216.650931\n",
      "2024-01-01 09:00:00 -493416.794920  -67378.454287 -511148.815997\n"
     ]
    }
   ],
   "source": [
    "reactive_power_data = pd.read_parquet(\"reactive_power_profile.parquet\")\n",
    "\n",
    "print(reactive_power_data)"
   ]
  },
  {
   "cell_type": "code",
   "execution_count": 5,
   "metadata": {},
   "outputs": [
    {
     "name": "stdout",
     "output_type": "stream",
     "text": [
      "                     Max_Voltage  Max_Voltage_Node  Min_Voltage  \\\n",
      "Timestamp                                                         \n",
      "2024-01-01 00:00:00     1.004847                 1     1.003450   \n",
      "2024-01-01 01:00:00     1.012053                 3     1.007998   \n",
      "2024-01-01 02:00:00     0.997474                 1     0.984365   \n",
      "2024-01-01 03:00:00     1.006557                 4     1.005190   \n",
      "2024-01-01 04:00:00     1.011007                 4     1.005877   \n",
      "2024-01-01 05:00:00     1.020486                 4     1.010570   \n",
      "2024-01-01 06:00:00     1.006342                 1     0.998868   \n",
      "2024-01-01 07:00:00     1.004306                 1     1.002822   \n",
      "2024-01-01 08:00:00     1.020402                 4     1.010501   \n",
      "2024-01-01 09:00:00     1.015742                 4     1.010084   \n",
      "\n",
      "                     Min_Voltage_Node  \n",
      "Timestamp                              \n",
      "2024-01-01 00:00:00                 3  \n",
      "2024-01-01 01:00:00                 1  \n",
      "2024-01-01 02:00:00                 4  \n",
      "2024-01-01 03:00:00                 1  \n",
      "2024-01-01 04:00:00                 1  \n",
      "2024-01-01 05:00:00                 1  \n",
      "2024-01-01 06:00:00                 4  \n",
      "2024-01-01 07:00:00                 3  \n",
      "2024-01-01 08:00:00                 1  \n",
      "2024-01-01 09:00:00                 1  \n"
     ]
    }
   ],
   "source": [
    "grid1 = pfp.PowerFlow(grid_data=dataset)\n",
    "\n",
    "output_data = grid1.batch_powerflow(active_power_profile=active_power_data, reactive_power_profile=reactive_power_data)\n",
    "\n",
    "print(grid1.aggregate_voltage_table(active_power_profile=active_power_data, reactive_power_profile=reactive_power_data))"
   ]
  },
  {
   "cell_type": "code",
   "execution_count": 6,
   "metadata": {},
   "outputs": [
    {
     "name": "stdout",
     "output_type": "stream",
     "text": [
      "            Timestamp  max_id  u_pu_max  min_id  u_pu_min\n",
      "0 2024-01-01 00:00:00       1  1.004847       3  1.003450\n",
      "1 2024-01-01 01:00:00       3  1.012053       1  1.007998\n",
      "2 2024-01-01 02:00:00       1  0.997474       4  0.984365\n",
      "3 2024-01-01 03:00:00       4  1.006557       1  1.005190\n",
      "4 2024-01-01 04:00:00       4  1.011007       1  1.005877\n",
      "5 2024-01-01 05:00:00       4  1.020486       1  1.010570\n",
      "6 2024-01-01 06:00:00       1  1.006342       4  0.998868\n",
      "7 2024-01-01 07:00:00       1  1.004306       3  1.002822\n",
      "8 2024-01-01 08:00:00       4  1.020402       1  1.010501\n",
      "9 2024-01-01 09:00:00       4  1.015742       1  1.010084\n"
     ]
    }
   ],
   "source": [
    "voltage_table = pd.DataFrame()\n",
    "\n",
    "voltage_table[\"Timestamp\"] = active_power_data.index.tolist()\n",
    "voltage_table[\"max_id\"] = output_data[\"node\"][\n",
    "    0, pd.DataFrame(output_data[\"node\"][\"u_pu\"][:, :]).idxmax(axis=1).tolist()\n",
    "][\"id\"]\n",
    "voltage_table[\"u_pu_max\"] = pd.DataFrame(output_data[\"node\"][\"u_pu\"][:, :]).max(axis=1).tolist()\n",
    "voltage_table[\"min_id\"] = output_data[\"node\"][\n",
    "    0, pd.DataFrame(output_data[\"node\"][\"u_pu\"][:, :]).idxmin(axis=1).tolist()\n",
    "][\"id\"]\n",
    "voltage_table[\"u_pu_min\"] = pd.DataFrame(output_data[\"node\"][\"u_pu\"][:, :]).min(axis=1).tolist()\n",
    "\n",
    "\n",
    "print(pd.DataFrame(voltage_table))"
   ]
  },
  {
   "cell_type": "code",
   "execution_count": 7,
   "metadata": {},
   "outputs": [
    {
     "data": {
      "text/html": [
       "<div>\n",
       "<style scoped>\n",
       "    .dataframe tbody tr th:only-of-type {\n",
       "        vertical-align: middle;\n",
       "    }\n",
       "\n",
       "    .dataframe tbody tr th {\n",
       "        vertical-align: top;\n",
       "    }\n",
       "\n",
       "    .dataframe thead th {\n",
       "        text-align: right;\n",
       "    }\n",
       "</style>\n",
       "<table border=\"1\" class=\"dataframe\">\n",
       "  <thead>\n",
       "    <tr style=\"text-align: right;\">\n",
       "      <th></th>\n",
       "      <th>0</th>\n",
       "      <th>1</th>\n",
       "      <th>2</th>\n",
       "      <th>3</th>\n",
       "    </tr>\n",
       "  </thead>\n",
       "  <tbody>\n",
       "    <tr>\n",
       "      <th>0</th>\n",
       "      <td>1.004847</td>\n",
       "      <td>1.004776</td>\n",
       "      <td>1.003450</td>\n",
       "      <td>1.003459</td>\n",
       "    </tr>\n",
       "    <tr>\n",
       "      <th>1</th>\n",
       "      <td>1.007998</td>\n",
       "      <td>1.010113</td>\n",
       "      <td>1.012053</td>\n",
       "      <td>1.011294</td>\n",
       "    </tr>\n",
       "    <tr>\n",
       "      <th>2</th>\n",
       "      <td>0.997474</td>\n",
       "      <td>0.992899</td>\n",
       "      <td>0.987828</td>\n",
       "      <td>0.984365</td>\n",
       "    </tr>\n",
       "    <tr>\n",
       "      <th>3</th>\n",
       "      <td>1.005190</td>\n",
       "      <td>1.005913</td>\n",
       "      <td>1.006144</td>\n",
       "      <td>1.006557</td>\n",
       "    </tr>\n",
       "    <tr>\n",
       "      <th>4</th>\n",
       "      <td>1.005877</td>\n",
       "      <td>1.007426</td>\n",
       "      <td>1.009366</td>\n",
       "      <td>1.011007</td>\n",
       "    </tr>\n",
       "    <tr>\n",
       "      <th>5</th>\n",
       "      <td>1.010570</td>\n",
       "      <td>1.016381</td>\n",
       "      <td>1.020329</td>\n",
       "      <td>1.020486</td>\n",
       "    </tr>\n",
       "    <tr>\n",
       "      <th>6</th>\n",
       "      <td>1.006342</td>\n",
       "      <td>1.003665</td>\n",
       "      <td>1.000984</td>\n",
       "      <td>0.998868</td>\n",
       "    </tr>\n",
       "    <tr>\n",
       "      <th>7</th>\n",
       "      <td>1.004306</td>\n",
       "      <td>1.003310</td>\n",
       "      <td>1.002822</td>\n",
       "      <td>1.003303</td>\n",
       "    </tr>\n",
       "    <tr>\n",
       "      <th>8</th>\n",
       "      <td>1.010501</td>\n",
       "      <td>1.016461</td>\n",
       "      <td>1.019042</td>\n",
       "      <td>1.020402</td>\n",
       "    </tr>\n",
       "    <tr>\n",
       "      <th>9</th>\n",
       "      <td>1.010084</td>\n",
       "      <td>1.011861</td>\n",
       "      <td>1.014130</td>\n",
       "      <td>1.015742</td>\n",
       "    </tr>\n",
       "  </tbody>\n",
       "</table>\n",
       "</div>"
      ],
      "text/plain": [
       "          0         1         2         3\n",
       "0  1.004847  1.004776  1.003450  1.003459\n",
       "1  1.007998  1.010113  1.012053  1.011294\n",
       "2  0.997474  0.992899  0.987828  0.984365\n",
       "3  1.005190  1.005913  1.006144  1.006557\n",
       "4  1.005877  1.007426  1.009366  1.011007\n",
       "5  1.010570  1.016381  1.020329  1.020486\n",
       "6  1.006342  1.003665  1.000984  0.998868\n",
       "7  1.004306  1.003310  1.002822  1.003303\n",
       "8  1.010501  1.016461  1.019042  1.020402\n",
       "9  1.010084  1.011861  1.014130  1.015742"
      ]
     },
     "execution_count": 7,
     "metadata": {},
     "output_type": "execute_result"
    }
   ],
   "source": [
    "pd.DataFrame(output_data[\"node\"][\"u_pu\"][:, :])"
   ]
  },
  {
   "cell_type": "code",
   "execution_count": 8,
   "metadata": {},
   "outputs": [
    {
     "data": {
      "text/plain": [
       "array([[1, 3, 1, 4, 4, 4, 1, 1, 4, 4],\n",
       "       [1, 3, 1, 4, 4, 4, 1, 1, 4, 4],\n",
       "       [1, 3, 1, 4, 4, 4, 1, 1, 4, 4],\n",
       "       [1, 3, 1, 4, 4, 4, 1, 1, 4, 4],\n",
       "       [1, 3, 1, 4, 4, 4, 1, 1, 4, 4],\n",
       "       [1, 3, 1, 4, 4, 4, 1, 1, 4, 4],\n",
       "       [1, 3, 1, 4, 4, 4, 1, 1, 4, 4],\n",
       "       [1, 3, 1, 4, 4, 4, 1, 1, 4, 4],\n",
       "       [1, 3, 1, 4, 4, 4, 1, 1, 4, 4],\n",
       "       [1, 3, 1, 4, 4, 4, 1, 1, 4, 4]])"
      ]
     },
     "execution_count": 8,
     "metadata": {},
     "output_type": "execute_result"
    }
   ],
   "source": [
    "output_data[\"node\"][:, pd.DataFrame(output_data[\"node\"][\"u_pu\"][:, :]).idxmax(axis=1).tolist()][\"id\"]"
   ]
  },
  {
   "cell_type": "code",
   "execution_count": 9,
   "metadata": {},
   "outputs": [
    {
     "data": {
      "text/plain": [
       "0    0\n",
       "1    2\n",
       "2    0\n",
       "3    3\n",
       "4    3\n",
       "5    3\n",
       "6    0\n",
       "7    0\n",
       "8    3\n",
       "9    3\n",
       "dtype: int64"
      ]
     },
     "execution_count": 9,
     "metadata": {},
     "output_type": "execute_result"
    }
   ],
   "source": [
    "pd.DataFrame(output_data[\"node\"][\"u_pu\"][:, :]).idxmax(axis=1)"
   ]
  },
  {
   "cell_type": "code",
   "execution_count": 10,
   "metadata": {},
   "outputs": [
    {
     "name": "stdout",
     "output_type": "stream",
     "text": [
      "         Total_Loss  Max_Loading Max_Loading_Timestamp  Min_Loading  \\\n",
      "Line_ID                                                               \n",
      "5         63.294763     0.149830   2024-01-01 06:00:00     0.063798   \n",
      "6         36.775143     0.111039   2024-01-01 05:00:00     0.037184   \n",
      "7         14.872359     0.071700   2024-01-01 02:00:00     0.020380   \n",
      "\n",
      "        Min_Loading_Timestamp  \n",
      "Line_ID                        \n",
      "5         2024-01-01 03:00:00  \n",
      "6         2024-01-01 00:00:00  \n",
      "7         2024-01-01 01:00:00  \n"
     ]
    }
   ],
   "source": [
    "grid1 = pfp.PowerFlow(grid_data=dataset)\n",
    "\n",
    "output_data = grid1.batch_powerflow(active_power_profile=active_power_data, reactive_power_profile=reactive_power_data)\n",
    "\n",
    "print(grid1.aggregate_loading_table(active_power_profile=active_power_data, reactive_power_profile=reactive_power_data))"
   ]
  },
  {
   "cell_type": "code",
   "execution_count": 11,
   "metadata": {},
   "outputs": [
    {
     "name": "stdout",
     "output_type": "stream",
     "text": [
      "         Total_Loss  Max_Loading Max_Loading_Timestamp  Min_Loading  \\\n",
      "Line_ID                                                               \n",
      "5         63.294763     0.149830   2024-01-01 06:00:00     0.063798   \n",
      "6         36.775143     0.111039   2024-01-01 05:00:00     0.037184   \n",
      "7         14.872359     0.071700   2024-01-01 02:00:00     0.020380   \n",
      "\n",
      "        Min_Loading_Timestamp  \n",
      "Line_ID                        \n",
      "5         2024-01-01 03:00:00  \n",
      "6         2024-01-01 00:00:00  \n",
      "7         2024-01-01 01:00:00  \n",
      "                     Max_Voltage  Max_Voltage_Node  Min_Voltage  \\\n",
      "Timestamp                                                         \n",
      "2024-01-01 00:00:00     1.004847                 1     1.003450   \n",
      "2024-01-01 01:00:00     1.012053                 3     1.007998   \n",
      "2024-01-01 02:00:00     0.997474                 1     0.984365   \n",
      "2024-01-01 03:00:00     1.006557                 4     1.005190   \n",
      "2024-01-01 04:00:00     1.011007                 4     1.005877   \n",
      "2024-01-01 05:00:00     1.020486                 4     1.010570   \n",
      "2024-01-01 06:00:00     1.006342                 1     0.998868   \n",
      "2024-01-01 07:00:00     1.004306                 1     1.002822   \n",
      "2024-01-01 08:00:00     1.020402                 4     1.010501   \n",
      "2024-01-01 09:00:00     1.015742                 4     1.010084   \n",
      "\n",
      "                     Min_Voltage_Node  \n",
      "Timestamp                              \n",
      "2024-01-01 00:00:00                 3  \n",
      "2024-01-01 01:00:00                 1  \n",
      "2024-01-01 02:00:00                 4  \n",
      "2024-01-01 03:00:00                 1  \n",
      "2024-01-01 04:00:00                 1  \n",
      "2024-01-01 05:00:00                 1  \n",
      "2024-01-01 06:00:00                 4  \n",
      "2024-01-01 07:00:00                 3  \n",
      "2024-01-01 08:00:00                 1  \n",
      "2024-01-01 09:00:00                 1  \n"
     ]
    }
   ],
   "source": [
    "expected_output1 = pd.read_parquet(\"output_table_row_per_line.parquet\")\n",
    "expected_output2 = pd.read_parquet(\"output_table_row_per_timestamp.parquet\")\n",
    "\n",
    "print(expected_output1)\n",
    "print(expected_output2)"
   ]
  },
  {
   "cell_type": "code",
   "execution_count": 12,
   "metadata": {},
   "outputs": [
    {
     "name": "stdout",
     "output_type": "stream",
     "text": [
      "[63.29476348 36.77514305 14.87235855]\n"
     ]
    }
   ],
   "source": [
    "grid1 = pfp.PowerFlow(grid_data=dataset)\n",
    "\n",
    "output_data = grid1.batch_powerflow(active_power_profile=active_power_data, reactive_power_profile=reactive_power_data)\n",
    "\n",
    "line_data = output_data[\"line\"]\n",
    "line_ids = line_data[\"id\"][0, :]\n",
    "\n",
    "# Extract power data\n",
    "p_from = pd.DataFrame(line_data[\"p_from\"][:, :], columns=line_ids)\n",
    "p_to = pd.DataFrame(line_data[\"p_to\"][:, :], columns=line_ids)\n",
    "\n",
    "# Calculate power loss\n",
    "p_loss = (p_from + p_to) * 1e-3\n",
    "\n",
    "# Calculate energy loss\n",
    "e_loss = sp.integrate.trapezoid(p_loss, dx=1.0, axis=0)\n",
    "\n",
    "print(e_loss)"
   ]
  },
  {
   "cell_type": "code",
   "execution_count": 13,
   "metadata": {},
   "outputs": [
    {
     "name": "stdout",
     "output_type": "stream",
     "text": [
      "         Total_Loss  Max_Loading Max_Loading_Timestamp  Min_Loading  \\\n",
      "Line_ID                                                               \n",
      "5         63.294763     0.149830   2024-01-01 06:00:00     0.063798   \n",
      "6         36.775143     0.111039   2024-01-01 05:00:00     0.037184   \n",
      "7         14.872359     0.071700   2024-01-01 02:00:00     0.020380   \n",
      "\n",
      "        Min_Loading_Timestamp  \n",
      "Line_ID                        \n",
      "5         2024-01-01 03:00:00  \n",
      "6         2024-01-01 00:00:00  \n",
      "7         2024-01-01 01:00:00  \n"
     ]
    }
   ],
   "source": [
    "grid1 = pfp.PowerFlow(grid_data=dataset)\n",
    "\n",
    "\n",
    "print(grid1.aggregate_loading_table(active_power_profile=active_power_data, reactive_power_profile=reactive_power_data))"
   ]
  },
  {
   "cell_type": "markdown",
   "metadata": {},
   "source": [
    "Error testing"
   ]
  },
  {
   "cell_type": "code",
   "execution_count": 14,
   "metadata": {},
   "outputs": [
    {
     "ename": "ValidationException",
     "evalue": "There are 2 validation errors in input_data:\n   1. Fields line.id and sym_power_sensor.id are not unique for 2 lines/sym_power_sensors.\n   2. Field 'to_node' does not contain a valid node id for 1 line.",
     "output_type": "error",
     "traceback": [
      "\u001b[1;31m---------------------------------------------------------------------------\u001b[0m",
      "\u001b[1;31mValidationException\u001b[0m                       Traceback (most recent call last)",
      "Cell \u001b[1;32mIn[14], line 34\u001b[0m\n\u001b[0;32m     30\u001b[0m sensor_error[\u001b[38;5;124m\"\u001b[39m\u001b[38;5;124mpower_sigma\u001b[39m\u001b[38;5;124m\"\u001b[39m] \u001b[38;5;241m=\u001b[39m [\u001b[38;5;241m0\u001b[39m]\n\u001b[0;32m     32\u001b[0m error_data \u001b[38;5;241m=\u001b[39m {\u001b[38;5;124m\"\u001b[39m\u001b[38;5;124mnode\u001b[39m\u001b[38;5;124m\"\u001b[39m: node_error, \u001b[38;5;124m\"\u001b[39m\u001b[38;5;124mline\u001b[39m\u001b[38;5;124m\"\u001b[39m: line_error, \u001b[38;5;124m\"\u001b[39m\u001b[38;5;124msym_power_sensor\u001b[39m\u001b[38;5;124m\"\u001b[39m: sensor_error}\n\u001b[1;32m---> 34\u001b[0m \u001b[43mpfp\u001b[49m\u001b[38;5;241;43m.\u001b[39;49m\u001b[43mPowerFlow\u001b[49m\u001b[43m(\u001b[49m\u001b[43mgrid_data\u001b[49m\u001b[38;5;241;43m=\u001b[39;49m\u001b[43merror_data\u001b[49m\u001b[43m)\u001b[49m\n",
      "File \u001b[1;32mc:\\Users\\20202301\\Documents\\AT Y3 Q4\\5XWG0\\GitHub Clones\\power-system-simulation-acdc\\src\\power_system_simulation\\power_flow_processing.py:50\u001b[0m, in \u001b[0;36mPowerFlow.__init__\u001b[1;34m(self, grid_data)\u001b[0m\n\u001b[0;32m     41\u001b[0m \u001b[38;5;28;01mdef\u001b[39;00m \u001b[38;5;21m__init__\u001b[39m(\u001b[38;5;28mself\u001b[39m, grid_data: \u001b[38;5;28mdict\u001b[39m) \u001b[38;5;241m-\u001b[39m\u001b[38;5;241m>\u001b[39m \u001b[38;5;28;01mNone\u001b[39;00m:\n\u001b[0;32m     42\u001b[0m \u001b[38;5;250m    \u001b[39m\u001b[38;5;124;03m\"\"\"Load grid_data in class 'PowerFlow' upon instantiation\u001b[39;00m\n\u001b[0;32m     43\u001b[0m \n\u001b[0;32m     44\u001b[0m \u001b[38;5;124;03m    Args:\u001b[39;00m\n\u001b[1;32m   (...)\u001b[0m\n\u001b[0;32m     47\u001b[0m \u001b[38;5;124;03m        reactive_power_profile: Reactive power profile time data. Class pyarrow.table.\u001b[39;00m\n\u001b[0;32m     48\u001b[0m \u001b[38;5;124;03m    \"\"\"\u001b[39;00m\n\u001b[1;32m---> 50\u001b[0m     \u001b[43massert_valid_input_data\u001b[49m\u001b[43m(\u001b[49m\u001b[43minput_data\u001b[49m\u001b[38;5;241;43m=\u001b[39;49m\u001b[43mgrid_data\u001b[49m\u001b[43m,\u001b[49m\u001b[43m \u001b[49m\u001b[43msymmetric\u001b[49m\u001b[38;5;241;43m=\u001b[39;49m\u001b[38;5;28;43;01mTrue\u001b[39;49;00m\u001b[43m,\u001b[49m\u001b[43m \u001b[49m\u001b[43mcalculation_type\u001b[49m\u001b[38;5;241;43m=\u001b[39;49m\u001b[43mCalculationType\u001b[49m\u001b[38;5;241;43m.\u001b[39;49m\u001b[43mpower_flow\u001b[49m\u001b[43m)\u001b[49m\n\u001b[0;32m     52\u001b[0m     \u001b[38;5;28mself\u001b[39m\u001b[38;5;241m.\u001b[39mgrid_data \u001b[38;5;241m=\u001b[39m grid_data\n\u001b[0;32m     54\u001b[0m     \u001b[38;5;66;03m# do not delete the next two lines!!!!\u001b[39;00m\n\u001b[0;32m     55\u001b[0m     \u001b[38;5;66;03m# self.active_power_profile = active_power_profile\u001b[39;00m\n\u001b[0;32m     56\u001b[0m     \u001b[38;5;66;03m# self.reactive_power_profile = reactive_power_profile\u001b[39;00m\n",
      "File \u001b[1;32mc:\\Users\\20202301\\Documents\\AT Y3 Q4\\5XWG0\\GitHub Clones\\power-system-simulation-acdc\\.venv\\Lib\\site-packages\\power_grid_model\\validation\\assertions.py:57\u001b[0m, in \u001b[0;36massert_valid_input_data\u001b[1;34m(input_data, calculation_type, symmetric)\u001b[0m\n\u001b[0;32m     53\u001b[0m validation_errors \u001b[38;5;241m=\u001b[39m validate_input_data(\n\u001b[0;32m     54\u001b[0m     input_data\u001b[38;5;241m=\u001b[39minput_data, calculation_type\u001b[38;5;241m=\u001b[39mcalculation_type, symmetric\u001b[38;5;241m=\u001b[39msymmetric\n\u001b[0;32m     55\u001b[0m )\n\u001b[0;32m     56\u001b[0m \u001b[38;5;28;01mif\u001b[39;00m validation_errors:\n\u001b[1;32m---> 57\u001b[0m     \u001b[38;5;28;01mraise\u001b[39;00m ValidationException(validation_errors, \u001b[38;5;124m\"\u001b[39m\u001b[38;5;124minput_data\u001b[39m\u001b[38;5;124m\"\u001b[39m)\n",
      "\u001b[1;31mValidationException\u001b[0m: There are 2 validation errors in input_data:\n   1. Fields line.id and sym_power_sensor.id are not unique for 2 lines/sym_power_sensors.\n   2. Field 'to_node' does not contain a valid node id for 1 line."
     ]
    }
   ],
   "source": [
    "from power_grid_model import PowerGridModel, initialize_array\n",
    "import power_flow_processing as pfp\n",
    "\n",
    "# A power grid containing several errors\n",
    "\n",
    "# node\n",
    "node_error = initialize_array(\"input\", \"node\", 3)\n",
    "node_error[\"id\"] = [1, 2, 3]\n",
    "node_error[\"u_rated\"] = [10.5e3]\n",
    "\n",
    "# line\n",
    "line_error = initialize_array(\"input\", \"line\", 3)\n",
    "line_error[\"id\"] = [4, 5, 6]\n",
    "line_error[\"from_node\"] = [1, 2, 3]\n",
    "line_error[\"to_node\"] = [2, 3, 4]\n",
    "line_error[\"from_status\"] = [True]\n",
    "line_error[\"to_status\"] = [True]\n",
    "line_error[\"r1\"] = [0.25]\n",
    "line_error[\"x1\"] = [0.2]\n",
    "line_error[\"c1\"] = [10e-6]\n",
    "line_error[\"tan1\"] = [0.0]\n",
    "\n",
    "# Power Sensor\n",
    "sensor_error = initialize_array(\"input\", \"sym_power_sensor\", 2)\n",
    "sensor_error[\"id\"] = [6, 7]\n",
    "sensor_error[\"measured_object\"] = [3, 4]\n",
    "sensor_error[\"measured_terminal_type\"] = [0, 2]\n",
    "sensor_error[\"p_measured\"] = [0]\n",
    "sensor_error[\"q_measured\"] = [0]\n",
    "sensor_error[\"power_sigma\"] = [0]\n",
    "\n",
    "error_data = {\"node\": node_error, \"line\": line_error, \"sym_power_sensor\": sensor_error}\n",
    "\n",
    "pfp.PowerFlow(grid_data=error_data)"
   ]
  }
 ],
 "metadata": {
  "kernelspec": {
   "display_name": ".venv",
   "language": "python",
   "name": "python3"
  },
  "language_info": {
   "codemirror_mode": {
    "name": "ipython",
    "version": 3
   },
   "file_extension": ".py",
   "mimetype": "text/x-python",
   "name": "python",
   "nbconvert_exporter": "python",
   "pygments_lexer": "ipython3",
   "version": "3.12.3"
  }
 },
 "nbformat": 4,
 "nbformat_minor": 2
}
