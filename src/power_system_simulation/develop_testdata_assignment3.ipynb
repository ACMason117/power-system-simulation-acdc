{
 "cells": [
  {
   "cell_type": "markdown",
   "metadata": {},
   "source": [
    "This code should develop the test data for assignment 3."
   ]
  },
  {
   "cell_type": "code",
   "execution_count": 1,
   "metadata": {},
   "outputs": [],
   "source": [
    "import power_flow_processing as pfp\n",
    "import power_system_simulation as pss\n",
    "import pandas as pd\n",
    "from power_grid_model.utils import json_deserialize_from_file"
   ]
  },
  {
   "cell_type": "code",
   "execution_count": 2,
   "metadata": {},
   "outputs": [
    {
     "name": "stdout",
     "output_type": "stream",
     "text": [
      "Who reads trek een bak\n"
     ]
    }
   ],
   "source": [
    "dataset = json_deserialize_from_file(\"input_network_data_assign3.json\")\n",
    "\n",
    "reactive_power_data = pd.read_parquet('reactive_power_profile_assign3.parquet')\n",
    "active_power_data = pd.read_parquet('active_power_profile_assign3.parquet')\n",
    "\n",
    "test1 = pss.PowerSim(grid_data=dataset)\n",
    "\n",
    "test1.example_code()"
   ]
  },
  {
   "cell_type": "code",
   "execution_count": 3,
   "metadata": {},
   "outputs": [
    {
     "name": "stdout",
     "output_type": "stream",
     "text": [
      "<class 'str'>\n",
      "5\n"
     ]
    }
   ],
   "source": [
    "print(test1.optimal_tap_position(active_power_profile=active_power_data, reactive_power_profile=reactive_power_data))\n",
    "\n",
    "# print(test_loading)"
   ]
  },
  {
   "cell_type": "code",
   "execution_count": 10,
   "metadata": {},
   "outputs": [
    {
     "name": "stdout",
     "output_type": "stream",
     "text": [
      "None\n"
     ]
    }
   ],
   "source": [
    "print(test_loading)"
   ]
  },
  {
   "cell_type": "code",
   "execution_count": 4,
   "metadata": {},
   "outputs": [],
   "source": [
    "test_data = test1.PowerSimModel.aggregate_voltage_table(active_power_profile=active_power_data, reactive_power_profile=reactive_power_data)\n"
   ]
  },
  {
   "cell_type": "code",
   "execution_count": 5,
   "metadata": {},
   "outputs": [
    {
     "name": "stdout",
     "output_type": "stream",
     "text": [
      "1.0729314643065189\n"
     ]
    },
    {
     "name": "stderr",
     "output_type": "stream",
     "text": [
      "C:\\Users\\20200821\\AppData\\Local\\Temp\\ipykernel_15456\\273634432.py:1: FutureWarning: Series.__getitem__ treating keys as positions is deprecated. In a future version, integer keys will always be treated as labels (consistent with DataFrame behavior). To access a value by position, use `ser.iloc[pos]`\n",
      "  print(test_data['Max_Voltage'][0])\n"
     ]
    },
    {
     "data": {
      "text/html": [
       "<div>\n",
       "<style scoped>\n",
       "    .dataframe tbody tr th:only-of-type {\n",
       "        vertical-align: middle;\n",
       "    }\n",
       "\n",
       "    .dataframe tbody tr th {\n",
       "        vertical-align: top;\n",
       "    }\n",
       "\n",
       "    .dataframe thead th {\n",
       "        text-align: right;\n",
       "    }\n",
       "</style>\n",
       "<table border=\"1\" class=\"dataframe\">\n",
       "  <thead>\n",
       "    <tr style=\"text-align: right;\">\n",
       "      <th></th>\n",
       "      <th>Max_Voltage</th>\n",
       "      <th>Max_Voltage_Node</th>\n",
       "      <th>Min_Voltage</th>\n",
       "      <th>Min_Voltage_Node</th>\n",
       "    </tr>\n",
       "    <tr>\n",
       "      <th>Timestamp</th>\n",
       "      <th></th>\n",
       "      <th></th>\n",
       "      <th></th>\n",
       "      <th></th>\n",
       "    </tr>\n",
       "  </thead>\n",
       "  <tbody>\n",
       "    <tr>\n",
       "      <th>2025-01-01 00:00:00</th>\n",
       "      <td>1.072931</td>\n",
       "      <td>1</td>\n",
       "      <td>1.049819</td>\n",
       "      <td>0</td>\n",
       "    </tr>\n",
       "    <tr>\n",
       "      <th>2025-01-01 00:15:00</th>\n",
       "      <td>1.075911</td>\n",
       "      <td>1</td>\n",
       "      <td>1.050022</td>\n",
       "      <td>0</td>\n",
       "    </tr>\n",
       "    <tr>\n",
       "      <th>2025-01-01 00:30:00</th>\n",
       "      <td>1.069725</td>\n",
       "      <td>1</td>\n",
       "      <td>1.049603</td>\n",
       "      <td>0</td>\n",
       "    </tr>\n",
       "    <tr>\n",
       "      <th>2025-01-01 00:45:00</th>\n",
       "      <td>1.073244</td>\n",
       "      <td>1</td>\n",
       "      <td>1.049842</td>\n",
       "      <td>0</td>\n",
       "    </tr>\n",
       "    <tr>\n",
       "      <th>2025-01-01 01:00:00</th>\n",
       "      <td>1.072924</td>\n",
       "      <td>1</td>\n",
       "      <td>1.049819</td>\n",
       "      <td>0</td>\n",
       "    </tr>\n",
       "    <tr>\n",
       "      <th>...</th>\n",
       "      <td>...</td>\n",
       "      <td>...</td>\n",
       "      <td>...</td>\n",
       "      <td>...</td>\n",
       "    </tr>\n",
       "    <tr>\n",
       "      <th>2025-01-10 22:45:00</th>\n",
       "      <td>1.071457</td>\n",
       "      <td>1</td>\n",
       "      <td>1.049730</td>\n",
       "      <td>0</td>\n",
       "    </tr>\n",
       "    <tr>\n",
       "      <th>2025-01-10 23:00:00</th>\n",
       "      <td>1.075341</td>\n",
       "      <td>1</td>\n",
       "      <td>1.049993</td>\n",
       "      <td>0</td>\n",
       "    </tr>\n",
       "    <tr>\n",
       "      <th>2025-01-10 23:15:00</th>\n",
       "      <td>1.072623</td>\n",
       "      <td>1</td>\n",
       "      <td>1.049803</td>\n",
       "      <td>0</td>\n",
       "    </tr>\n",
       "    <tr>\n",
       "      <th>2025-01-10 23:30:00</th>\n",
       "      <td>1.071624</td>\n",
       "      <td>1</td>\n",
       "      <td>1.049741</td>\n",
       "      <td>0</td>\n",
       "    </tr>\n",
       "    <tr>\n",
       "      <th>2025-01-10 23:45:00</th>\n",
       "      <td>1.076290</td>\n",
       "      <td>1</td>\n",
       "      <td>1.050056</td>\n",
       "      <td>0</td>\n",
       "    </tr>\n",
       "  </tbody>\n",
       "</table>\n",
       "<p>960 rows × 4 columns</p>\n",
       "</div>"
      ],
      "text/plain": [
       "                     Max_Voltage  Max_Voltage_Node  Min_Voltage  \\\n",
       "Timestamp                                                         \n",
       "2025-01-01 00:00:00     1.072931                 1     1.049819   \n",
       "2025-01-01 00:15:00     1.075911                 1     1.050022   \n",
       "2025-01-01 00:30:00     1.069725                 1     1.049603   \n",
       "2025-01-01 00:45:00     1.073244                 1     1.049842   \n",
       "2025-01-01 01:00:00     1.072924                 1     1.049819   \n",
       "...                          ...               ...          ...   \n",
       "2025-01-10 22:45:00     1.071457                 1     1.049730   \n",
       "2025-01-10 23:00:00     1.075341                 1     1.049993   \n",
       "2025-01-10 23:15:00     1.072623                 1     1.049803   \n",
       "2025-01-10 23:30:00     1.071624                 1     1.049741   \n",
       "2025-01-10 23:45:00     1.076290                 1     1.050056   \n",
       "\n",
       "                     Min_Voltage_Node  \n",
       "Timestamp                              \n",
       "2025-01-01 00:00:00                 0  \n",
       "2025-01-01 00:15:00                 0  \n",
       "2025-01-01 00:30:00                 0  \n",
       "2025-01-01 00:45:00                 0  \n",
       "2025-01-01 01:00:00                 0  \n",
       "...                               ...  \n",
       "2025-01-10 22:45:00                 0  \n",
       "2025-01-10 23:00:00                 0  \n",
       "2025-01-10 23:15:00                 0  \n",
       "2025-01-10 23:30:00                 0  \n",
       "2025-01-10 23:45:00                 0  \n",
       "\n",
       "[960 rows x 4 columns]"
      ]
     },
     "metadata": {},
     "output_type": "display_data"
    }
   ],
   "source": [
    "print(test_data['Max_Voltage'][0])\n",
    "\n",
    "display(test_data)"
   ]
  },
  {
   "cell_type": "code",
   "execution_count": 6,
   "metadata": {},
   "outputs": [],
   "source": [
    "# ans = test1.PowerSimModel.batch_powerflow(active_power_profile=active_power_data, reactive_power_profile=reactive_power_data)"
   ]
  },
  {
   "cell_type": "code",
   "execution_count": 7,
   "metadata": {},
   "outputs": [],
   "source": [
    "# print(pd.DataFrame(dataset['transformer']).columns)"
   ]
  },
  {
   "cell_type": "code",
   "execution_count": 8,
   "metadata": {},
   "outputs": [],
   "source": [
    "# print(pd.DataFrame(dataset['transformer'][['tap_pos','tap_min', 'tap_max', 'tap_nom', 'tap_size', 'tap_side']]))"
   ]
  },
  {
   "cell_type": "code",
   "execution_count": 9,
   "metadata": {},
   "outputs": [],
   "source": [
    "# batch_data = test1.batch_powerflow(active_power_profile=active_power_data, reactive_power_profile=reactive_power_data)"
   ]
  }
 ],
 "metadata": {
  "kernelspec": {
   "display_name": ".venv",
   "language": "python",
   "name": "python3"
  },
  "language_info": {
   "codemirror_mode": {
    "name": "ipython",
    "version": 3
   },
   "file_extension": ".py",
   "mimetype": "text/x-python",
   "name": "python",
   "nbconvert_exporter": "python",
   "pygments_lexer": "ipython3",
   "version": "3.12.3"
  }
 },
 "nbformat": 4,
 "nbformat_minor": 2
}
