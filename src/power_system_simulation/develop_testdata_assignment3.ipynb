{
 "cells": [
  {
   "cell_type": "markdown",
   "metadata": {},
   "source": [
    "This code should develop the test data for assignment 3."
   ]
  },
  {
   "cell_type": "code",
   "execution_count": 1,
   "metadata": {},
   "outputs": [],
   "source": [
    "import power_flow_processing as pfp\n",
    "import power_system_simulation as pss\n",
    "import pandas as pd\n",
    "from power_grid_model.utils import json_deserialize_from_file"
   ]
  },
  {
   "cell_type": "code",
   "execution_count": 2,
   "metadata": {},
   "outputs": [
    {
     "name": "stdout",
     "output_type": "stream",
     "text": [
      "Who reads trek een bak\n"
     ]
    }
   ],
   "source": [
    "dataset = json_deserialize_from_file(\"input_network_data_assign3.json\")\n",
    "\n",
    "reactive_power_data = pd.read_parquet('reactive_power_profile_assign3.parquet')\n",
    "active_power_data = pd.read_parquet('active_power_profile_assign3.parquet')\n",
    "\n",
    "test1 = pss.PowerSim(grid_data=dataset)\n",
    "\n",
    "test1.example_code()"
   ]
  },
  {
   "cell_type": "code",
   "execution_count": 3,
   "metadata": {},
   "outputs": [
    {
     "name": "stdout",
     "output_type": "stream",
     "text": [
      "5\n"
     ]
    }
   ],
   "source": [
    "print(test1.optimal_tap_position(active_power_profile=active_power_data, reactive_power_profile=reactive_power_data, opt_criteria=pss.TotalEnergyLoss))\n",
    "# print(test_loading)"
   ]
  },
  {
   "cell_type": "code",
   "execution_count": 4,
   "metadata": {},
   "outputs": [
    {
     "name": "stdout",
     "output_type": "stream",
     "text": [
      "1\n"
     ]
    }
   ],
   "source": [
    "print(test1.optimal_tap_position(active_power_profile=active_power_data, reactive_power_profile=reactive_power_data, opt_criteria=pss.VoltageDeviation))\n",
    "# print(test_loading)"
   ]
  },
  {
   "cell_type": "code",
   "execution_count": 5,
   "metadata": {},
   "outputs": [],
   "source": [
    "test_data = test1.PowerSimModel.aggregate_voltage_table(active_power_profile=active_power_data, reactive_power_profile=reactive_power_data)\n"
   ]
  },
  {
   "cell_type": "code",
   "execution_count": 6,
   "metadata": {},
   "outputs": [
    {
     "name": "stdout",
     "output_type": "stream",
     "text": [
      "<class 'pandas.core.frame.DataFrame'>\n",
      "                     Max_Voltage  Min_Voltage\n",
      "Timestamp                                    \n",
      "2025-01-01 00:00:00     0.072931     0.049819\n",
      "2025-01-01 00:15:00     0.075911     0.050022\n",
      "2025-01-01 00:30:00     0.069725     0.049603\n",
      "2025-01-01 00:45:00     0.073244     0.049842\n",
      "2025-01-01 01:00:00     0.072924     0.049819\n",
      "...                          ...          ...\n",
      "2025-01-10 22:45:00     0.071457     0.049730\n",
      "2025-01-10 23:00:00     0.075341     0.049993\n",
      "2025-01-10 23:15:00     0.072623     0.049803\n",
      "2025-01-10 23:30:00     0.071624     0.049741\n",
      "2025-01-10 23:45:00     0.076290     0.050056\n",
      "\n",
      "[960 rows x 2 columns]\n",
      "Timestamp\n",
      "2025-01-01 00:00:00    0.072931\n",
      "2025-01-01 00:15:00    0.075911\n",
      "2025-01-01 00:30:00    0.069725\n",
      "2025-01-01 00:45:00    0.073244\n",
      "2025-01-01 01:00:00    0.072924\n",
      "                         ...   \n",
      "2025-01-10 22:45:00    0.071457\n",
      "2025-01-10 23:00:00    0.075341\n",
      "2025-01-10 23:15:00    0.072623\n",
      "2025-01-10 23:30:00    0.071624\n",
      "2025-01-10 23:45:00    0.076290\n",
      "Length: 960, dtype: float64\n"
     ]
    }
   ],
   "source": [
    "print(type(test_data))\n",
    "\n",
    "print( test_data[['Max_Voltage', 'Min_Voltage']] - 1 )\n",
    "\n",
    "print( pd.DataFrame(test_data[['Max_Voltage', 'Min_Voltage']] - 1).max(axis=1) )\n",
    "\n",
    "# display(test_data)"
   ]
  },
  {
   "cell_type": "code",
   "execution_count": 7,
   "metadata": {},
   "outputs": [
    {
     "name": "stdout",
     "output_type": "stream",
     "text": [
      "0.07360620454654422\n"
     ]
    }
   ],
   "source": [
    "\n",
    "print( sum((pd.DataFrame(test_data[['Max_Voltage', 'Min_Voltage']] - 1).max(axis=1)).tolist())/len((pd.DataFrame(test_data[['Max_Voltage', 'Min_Voltage']] - 1).max(axis=1)).tolist()) )"
   ]
  },
  {
   "cell_type": "code",
   "execution_count": 8,
   "metadata": {},
   "outputs": [],
   "source": [
    "# ans = test1.PowerSimModel.batch_powerflow(active_power_profile=active_power_data, reactive_power_profile=reactive_power_data)"
   ]
  },
  {
   "cell_type": "code",
   "execution_count": 9,
   "metadata": {},
   "outputs": [],
   "source": [
    "# print(pd.DataFrame(dataset['transformer']).columns)"
   ]
  },
  {
   "cell_type": "code",
   "execution_count": 10,
   "metadata": {},
   "outputs": [],
   "source": [
    "# print(pd.DataFrame(dataset['transformer'][['tap_pos','tap_min', 'tap_max', 'tap_nom', 'tap_size', 'tap_side']]))"
   ]
  },
  {
   "cell_type": "code",
   "execution_count": 11,
   "metadata": {},
   "outputs": [],
   "source": [
    "# batch_data = test1.batch_powerflow(active_power_profile=active_power_data, reactive_power_profile=reactive_power_data)"
   ]
  }
 ],
 "metadata": {
  "kernelspec": {
   "display_name": ".venv",
   "language": "python",
   "name": "python3"
  },
  "language_info": {
   "codemirror_mode": {
    "name": "ipython",
    "version": 3
   },
   "file_extension": ".py",
   "mimetype": "text/x-python",
   "name": "python",
   "nbconvert_exporter": "python",
   "pygments_lexer": "ipython3",
   "version": "3.12.3"
  }
 },
 "nbformat": 4,
 "nbformat_minor": 2
}
