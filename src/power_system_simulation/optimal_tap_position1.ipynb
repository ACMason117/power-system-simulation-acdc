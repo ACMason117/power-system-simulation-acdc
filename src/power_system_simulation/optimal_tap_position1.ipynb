{
 "cells": [
  {
   "cell_type": "code",
   "execution_count": 2,
   "metadata": {},
   "outputs": [],
   "source": [
    "import pandas as pd\n",
    "from power_grid_model.utils import json_deserialize_from_file\n",
    "import numpy as np\n",
    "\n",
    "from power_grid_model import LoadGenType\n",
    "\n",
    "from power_grid_model import (\n",
    "    PowerGridModel,\n",
    "    CalculationMethod,\n",
    "    CalculationType,\n",
    "    MeasuredTerminalType,\n",
    "    BranchSide,\n",
    ")\n",
    "\n",
    "from power_grid_model.validation import assert_valid_input_data\n",
    "from power_grid_model.enum import _ExperimentalFeatures"
   ]
  },
  {
   "cell_type": "code",
   "execution_count": 3,
   "metadata": {},
   "outputs": [],
   "source": [
    "input_data = json_deserialize_from_file(\"input_network_data1.json\")\n",
    "active_power_profile1 = pd.read_parquet('active_power_profile1.parquet')\n",
    "reactive_power_profile1 = pd.read_parquet('reactive_power_profile1.parquet')"
   ]
  },
  {
   "cell_type": "code",
   "execution_count": 4,
   "metadata": {},
   "outputs": [
    {
     "name": "stdout",
     "output_type": "stream",
     "text": [
      "   id  u_rated\n",
      "0   0  10500.0\n",
      "1   1    400.0\n",
      "2   2    400.0\n",
      "3   3    400.0\n",
      "4   4    400.0\n",
      "5   5    400.0\n",
      "6   6    400.0\n",
      "7   7    400.0\n",
      "8   8    400.0\n",
      "9   9    400.0\n"
     ]
    }
   ],
   "source": [
    "print(pd.DataFrame(input_data['node']))"
   ]
  },
  {
   "cell_type": "code",
   "execution_count": 5,
   "metadata": {},
   "outputs": [
    {
     "name": "stdout",
     "output_type": "stream",
     "text": [
      "   id  from_node  to_node  from_status  to_status        r1        x1  \\\n",
      "0  16          1        2            1          1  0.000310  0.000141   \n",
      "1  17          2        3            1          1  0.000052  0.000007   \n",
      "2  18          2        4            1          1  0.000330  0.000150   \n",
      "3  19          4        5            1          1  0.000056  0.000008   \n",
      "4  20          1        6            1          1  0.000316  0.000144   \n",
      "5  21          6        7            1          1  0.000052  0.000007   \n",
      "6  22          6        8            1          1  0.000309  0.000140   \n",
      "7  23          8        9            1          1  0.000062  0.000009   \n",
      "8  24          4        8            1          0  0.000360  0.000164   \n",
      "\n",
      "             c1   tan1        r0        x0            c0   tan0           i_n  \n",
      "0  1.406945e-05  0.003  0.001121  0.000387  8.360108e-06  0.001  4.485912e+06  \n",
      "1  5.235094e-07  0.003  0.000175  0.000020  3.102278e-07  0.001  9.694619e+04  \n",
      "2  1.498785e-05  0.003  0.001195  0.000413  8.905821e-06  0.001  4.778733e+06  \n",
      "3  5.715131e-07  0.003  0.000191  0.000022  3.386744e-07  0.001  1.058358e+05  \n",
      "4  1.436725e-05  0.003  0.001145  0.000396  8.537064e-06  0.001  4.580864e+06  \n",
      "5  5.265188e-07  0.003  0.000176  0.000020  3.120112e-07  0.001  9.750349e+04  \n",
      "6  1.404776e-05  0.003  0.001120  0.000387  8.347217e-06  0.001  4.478994e+06  \n",
      "7  6.246230e-07  0.003  0.000208  0.000024  3.701469e-07  0.001  1.156709e+05  \n",
      "8  1.635942e-05  0.003  0.001304  0.000450  9.720814e-06  0.001  5.216046e+06  \n"
     ]
    }
   ],
   "source": [
    "print(pd.DataFrame(input_data['line']))"
   ]
  },
  {
   "cell_type": "code",
   "execution_count": 6,
   "metadata": {},
   "outputs": [
    {
     "name": "stdout",
     "output_type": "stream",
     "text": [
      "   id  from_node  to_node  from_status  to_status       u1     u2        sn  \\\n",
      "0  11          0        1            1          1  10750.0  420.0  630000.0   \n",
      "\n",
      "      uk      pk  ...  tap_nom  tap_size  uk_min  uk_max  pk_min  pk_max  \\\n",
      "0  0.041  5200.0  ...        3     250.0     NaN     NaN     NaN     NaN   \n",
      "\n",
      "   r_grounding_from  x_grounding_from  r_grounding_to  x_grounding_to  \n",
      "0               NaN               NaN             0.0             0.0  \n",
      "\n",
      "[1 rows x 29 columns]\n"
     ]
    }
   ],
   "source": [
    "print(pd.DataFrame(input_data['transformer']))"
   ]
  },
  {
   "cell_type": "code",
   "execution_count": 7,
   "metadata": {},
   "outputs": [
    {
     "name": "stdout",
     "output_type": "stream",
     "text": [
      "   id  node  status  u_ref  u_ref_angle           sk  rx_ratio  z01_ratio\n",
      "0  10     0       1   1.05          NaN  200000000.0       NaN        NaN\n"
     ]
    }
   ],
   "source": [
    "print(pd.DataFrame(input_data['source']))"
   ]
  },
  {
   "cell_type": "code",
   "execution_count": 8,
   "metadata": {},
   "outputs": [
    {
     "name": "stdout",
     "output_type": "stream",
     "text": [
      "   id  node  status  type  p_specified  q_specified\n",
      "0  12     3       1     0          0.0          0.0\n",
      "1  13     5       1     0          0.0          0.0\n",
      "2  14     7       1     0          0.0          0.0\n",
      "3  15     9       1     0          0.0          0.0\n"
     ]
    }
   ],
   "source": [
    "print(pd.DataFrame(input_data['sym_load']))"
   ]
  },
  {
   "cell_type": "code",
   "execution_count": 9,
   "metadata": {},
   "outputs": [],
   "source": [
    "from power_system_simulation.power_flow_processing import PowerFlow\n",
    "\n",
    "power_flow_instance = PowerFlow(input_data)\n",
    "\n",
    "output_data = power_flow_instance.batch_powerflow(\n",
    "        active_power_profile=active_power_profile1, reactive_power_profile=reactive_power_profile1\n",
    "    )"
   ]
  },
  {
   "cell_type": "code",
   "execution_count": 10,
   "metadata": {},
   "outputs": [
    {
     "name": "stdout",
     "output_type": "stream",
     "text": [
      "                0           1           2           3           4           5  \\\n",
      "0    11023.097450  429.172586  429.094271  429.087868  429.050534  429.043411   \n",
      "1    11025.226665  430.364474  430.275539  430.268239  430.231197  430.222774   \n",
      "2    11020.835073  427.889845  427.796042  427.787993  427.750793  427.743408   \n",
      "3    11023.342998  429.297456  429.207037  429.199441  429.161970  429.154138   \n",
      "4    11023.102394  429.169789  429.088442  429.081103  429.049815  429.042594   \n",
      "..            ...         ...         ...         ...         ...         ...   \n",
      "955  11022.162034  428.582815  428.472488  428.463784  428.415307  428.405790   \n",
      "956  11024.927599  430.136428  430.054511  430.047401  430.008609  430.000660   \n",
      "957  11022.934792  429.049001  428.962020  428.955140  428.915163  428.907747   \n",
      "958  11022.278198  428.649779  428.554539  428.545965  428.503962  428.495866   \n",
      "959  11025.586815  430.516104  430.434998  430.427867  430.389585  430.381848   \n",
      "\n",
      "              6           7           8           9  \n",
      "0    429.082734  429.075529  429.037842  429.029010  \n",
      "1    430.296769  430.290064  430.266742  430.260048  \n",
      "2    427.799013  427.792583  427.751126  427.742403  \n",
      "3    429.217577  429.211411  429.178071  429.169484  \n",
      "4    429.081429  429.074346  429.040752  429.032672  \n",
      "..          ...         ...         ...         ...  \n",
      "955  428.501186  428.495365  428.456009  428.446837  \n",
      "956  430.041971  430.033077  429.998491  429.989960  \n",
      "957  428.957572  428.950029  428.910976  428.901478  \n",
      "958  428.553930  428.546820  428.505123  428.495902  \n",
      "959  430.427474  430.418992  430.388304  430.379793  \n",
      "\n",
      "[960 rows x 10 columns]\n"
     ]
    }
   ],
   "source": [
    "print(pd.DataFrame(output_data[\"node\"][\"u\"]))"
   ]
  },
  {
   "cell_type": "code",
   "execution_count": 11,
   "metadata": {},
   "outputs": [
    {
     "name": "stdout",
     "output_type": "stream",
     "text": [
      "[0]\n"
     ]
    }
   ],
   "source": [
    "print(input_data['transformer']['from_node'])"
   ]
  },
  {
   "cell_type": "code",
   "execution_count": 33,
   "metadata": {},
   "outputs": [
    {
     "name": "stdout",
     "output_type": "stream",
     "text": [
      "3\n"
     ]
    }
   ],
   "source": [
    "tap_position = 0\n",
    "number_of_taps_max_min = input_data['transformer']['tap_max']-input_data['transformer']['tap_min']\n",
    "number_of_taps_min_max = input_data['transformer']['tap_min']-input_data['transformer']['tap_max']\n",
    "for i in range(len(output_data[\"node\"][\"id\"])):\n",
    "    if isinstance(output_data[\"node\"][\"id\"][i], (list, np.ndarray)):\n",
    "        for j in range(len(output_data[\"node\"][\"id\"][i])):\n",
    "            if output_data[\"node\"][\"id\"][i][j] == input_data['transformer']['from_node']:\n",
    "                tap = ((output_data[\"node\"][\"u\"][i][j]-input_data['transformer']['u1'])/(input_data['transformer']['u1']))*100\n",
    "                if(input_data['transformer']['tap_max'] < input_data['transformer']['tap_min']):\n",
    "                    for i in range(number_of_taps_min_max[0]):\n",
    "                        if((input_data['transformer']['tap_max'])+i-0.5<tap and (input_data['transformer']['tap_max'])+i+0.5>tap):\n",
    "                            tap = (input_data['transformer']['tap_max'])+i\n",
    "                            tap_position = tap + tap_position\n",
    "                elif(input_data['transformer']['tap_max'] > input_data['transformer']['tap_min']):\n",
    "                    for i in range(number_of_taps_max_min[0]):\n",
    "                        if((input_data['transformer']['tap_max'])+i-0.5<tap and (input_data['transformer']['tap_max'])+i+0.5>tap):\n",
    "                            tap = (input_data['transformer']['tap_min'])+i\n",
    "                            tap_position = tap + tap_position\n",
    "\n",
    "optimial_tap_position = tap_position/(len(output_data[\"node\"][\"id\"]))\n",
    "if(input_data['transformer']['tap_max'] < input_data['transformer']['tap_min']):\n",
    "    for i in range(number_of_taps_min_max[0]):\n",
    "        if((input_data['transformer']['tap_max'])+i-0.5<tap and (input_data['transformer']['tap_max'])+i+0.5>tap):\n",
    "            optimial_tap_position = (input_data['transformer']['tap_max'])+i\n",
    "elif(input_data['transformer']['tap_max'] > input_data['transformer']['tap_min']):\n",
    "    for i in range(number_of_taps_max_min[0]):\n",
    "        if((input_data['transformer']['tap_max'])+i-0.5<tap and (input_data['transformer']['tap_max'])+i+0.5>tap):\n",
    "            optimial_tap_position = (input_data['transformer']['tap_min'])+i\n",
    "\n",
    "print(optimial_tap_position[0])"
   ]
  },
  {
   "cell_type": "code",
   "execution_count": null,
   "metadata": {},
   "outputs": [
    {
     "name": "stdout",
     "output_type": "stream",
     "text": [
      "                     Max_Voltage  Max_Voltage_Node  Min_Voltage  \\\n",
      "Timestamp                                                         \n",
      "2025-01-01 00:00:00     1.072931                 1     1.049819   \n",
      "2025-01-01 00:15:00     1.075911                 1     1.050022   \n",
      "2025-01-01 00:30:00     1.069725                 1     1.049603   \n",
      "2025-01-01 00:45:00     1.073244                 1     1.049842   \n",
      "2025-01-01 01:00:00     1.072924                 1     1.049819   \n",
      "...                          ...               ...          ...   \n",
      "2025-01-10 22:45:00     1.071457                 1     1.049730   \n",
      "2025-01-10 23:00:00     1.075341                 1     1.049993   \n",
      "2025-01-10 23:15:00     1.072623                 1     1.049803   \n",
      "2025-01-10 23:30:00     1.071624                 1     1.049741   \n",
      "2025-01-10 23:45:00     1.076290                 1     1.050056   \n",
      "\n",
      "                     Min_Voltage_Node  \n",
      "Timestamp                              \n",
      "2025-01-01 00:00:00                 0  \n",
      "2025-01-01 00:15:00                 0  \n",
      "2025-01-01 00:30:00                 0  \n",
      "2025-01-01 00:45:00                 0  \n",
      "2025-01-01 01:00:00                 0  \n",
      "...                               ...  \n",
      "2025-01-10 22:45:00                 0  \n",
      "2025-01-10 23:00:00                 0  \n",
      "2025-01-10 23:15:00                 0  \n",
      "2025-01-10 23:30:00                 0  \n",
      "2025-01-10 23:45:00                 0  \n",
      "\n",
      "[960 rows x 4 columns]\n"
     ]
    }
   ],
   "source": [
    "voltage_table = power_flow_instance.aggregate_voltage_table(\n",
    "    active_power_profile=active_power_profile1, reactive_power_profile=reactive_power_profile1\n",
    ")\n",
    "\n",
    "print(voltage_table)"
   ]
  },
  {
   "cell_type": "code",
   "execution_count": 35,
   "metadata": {},
   "outputs": [
    {
     "name": "stdout",
     "output_type": "stream",
     "text": [
      "                0           1           2           3           4           5  \\\n",
      "0    11023.097450  429.172586  429.094271  429.087868  429.050534  429.043411   \n",
      "1    11025.226665  430.364474  430.275539  430.268239  430.231197  430.222774   \n",
      "2    11020.835073  427.889845  427.796042  427.787993  427.750793  427.743408   \n",
      "3    11023.342998  429.297456  429.207037  429.199441  429.161970  429.154138   \n",
      "4    11023.102394  429.169789  429.088442  429.081103  429.049815  429.042594   \n",
      "..            ...         ...         ...         ...         ...         ...   \n",
      "955  11022.162034  428.582815  428.472488  428.463784  428.415307  428.405790   \n",
      "956  11024.927599  430.136428  430.054511  430.047401  430.008609  430.000660   \n",
      "957  11022.934792  429.049001  428.962020  428.955140  428.915163  428.907747   \n",
      "958  11022.278198  428.649779  428.554539  428.545965  428.503962  428.495866   \n",
      "959  11025.586815  430.516104  430.434998  430.427867  430.389585  430.381848   \n",
      "\n",
      "              6           7           8           9  \n",
      "0    429.082734  429.075529  429.037842  429.029010  \n",
      "1    430.296769  430.290064  430.266742  430.260048  \n",
      "2    427.799013  427.792583  427.751126  427.742403  \n",
      "3    429.217577  429.211411  429.178071  429.169484  \n",
      "4    429.081429  429.074346  429.040752  429.032672  \n",
      "..          ...         ...         ...         ...  \n",
      "955  428.501186  428.495365  428.456009  428.446837  \n",
      "956  430.041971  430.033077  429.998491  429.989960  \n",
      "957  428.957572  428.950029  428.910976  428.901478  \n",
      "958  428.553930  428.546820  428.505123  428.495902  \n",
      "959  430.427474  430.418992  430.388304  430.379793  \n",
      "\n",
      "[960 rows x 10 columns]\n"
     ]
    }
   ],
   "source": [
    "print(pd.DataFrame(output_data['node'][\"u\"]))"
   ]
  },
  {
   "cell_type": "code",
   "execution_count": null,
   "metadata": {},
   "outputs": [
    {
     "name": "stdout",
     "output_type": "stream",
     "text": [
      "6.173418251365674\n"
     ]
    }
   ],
   "source": [
    "tap_voltage=0\n",
    "for i in range(len(voltage_table)):\n",
    "    u_pu_max = voltage_table[\"Max_Voltage\"].iloc[i]\n",
    "    u_pu_min = voltage_table[\"Min_Voltage\"].iloc[i]\n",
    "    tap_max = ((u_pu_max-1)/1)*100\n",
    "    tap_min = ((u_pu_min-1)/1)*100\n",
    "    tap_voltage = tap_max+tap_min+tap_voltage\n",
    "\n",
    "tap_position_voltage = tap_voltage/(2*(len(voltage_table)))\n",
    "print(tap_position_voltage)\n"
   ]
  },
  {
   "cell_type": "code",
   "execution_count": null,
   "metadata": {},
   "outputs": [
    {
     "name": "stdout",
     "output_type": "stream",
     "text": [
      "         Total_Loss   Max_Loading Max_Loading_Timestamp   Min_Loading  \\\n",
      "Line_ID                                                                 \n",
      "16        26.709511  6.869324e-05   2025-01-04 06:30:00  1.253601e-05   \n",
      "17         1.128073  1.653650e-03   2025-01-04 09:45:00  2.697708e-04   \n",
      "18         9.100636  3.414478e-05   2025-01-07 10:45:00  5.617314e-06   \n",
      "19         1.220324  1.543576e-03   2025-01-07 10:45:00  2.496785e-04   \n",
      "20        27.361620  7.086133e-05   2025-01-07 10:45:00  1.172002e-05   \n",
      "21         1.132925  1.658966e-03   2025-01-07 10:30:00  2.550110e-04   \n",
      "22         8.584028  3.876018e-05   2025-01-07 10:45:00  5.715455e-06   \n",
      "23         1.345700  1.500068e-03   2025-01-07 10:45:00  2.202110e-04   \n",
      "24         2.725758  2.452007e-07   2025-01-10 21:15:00  2.418978e-07   \n",
      "\n",
      "        Min_Loading_Timestamp  \n",
      "Line_ID                        \n",
      "16        2025-01-08 12:30:00  \n",
      "17        2025-01-08 11:30:00  \n",
      "18        2025-01-05 17:45:00  \n",
      "19        2025-01-05 17:45:00  \n",
      "20        2025-01-02 14:30:00  \n",
      "21        2025-01-02 14:30:00  \n",
      "22        2025-01-02 12:30:00  \n",
      "23        2025-01-02 12:30:00  \n",
      "24        2025-01-04 09:45:00  \n"
     ]
    }
   ],
   "source": [
    "loading_table = power_flow_instance.aggregate_loading_table(\n",
    "    active_power_profile=active_power_profile1, reactive_power_profile=reactive_power_profile1\n",
    ")\n",
    "\n",
    "print(loading_table)"
   ]
  },
  {
   "cell_type": "code",
   "execution_count": null,
   "metadata": {},
   "outputs": [
    {
     "name": "stdout",
     "output_type": "stream",
     "text": [
      "              11\n",
      "0    1432.750122\n",
      "1    1474.464535\n",
      "2    1478.754012\n",
      "3    1465.859301\n",
      "4    1446.208700\n",
      "..           ...\n",
      "955  1596.281086\n",
      "956  1627.554084\n",
      "957  1512.015776\n",
      "958  1591.382652\n",
      "959  1620.175499\n",
      "\n",
      "[960 rows x 1 columns]\n",
      "[(11, 0, 1, 1, 1, 10750., 420., 630000., 0.041, 5200., 0.01, 745., 2, 1, 5, 0, 3, 5, 1, 3, 250., nan, nan, nan, nan, nan, nan, 0., 0.)]\n"
     ]
    }
   ],
   "source": [
    "transformer_data = output_data[\"transformer\"]\n",
    "transformer_ids = transformer_data[\"id\"][0, :]\n",
    "\n",
    "p_from_transformer = pd.DataFrame(transformer_data[\"p_from\"][:, :], columns=transformer_ids)\n",
    "p_to_transformer = pd.DataFrame(transformer_data[\"p_to\"][:, :], columns=transformer_ids)\n",
    "\n",
    "p_loss_tranformer = (p_from_transformer + p_to_transformer)\n",
    "\n",
    "print(p_loss_tranformer)\n",
    "\n",
    "print(input_data['transformer'])\n"
   ]
  }
 ],
 "metadata": {
  "kernelspec": {
   "display_name": ".venv",
   "language": "python",
   "name": "python3"
  },
  "language_info": {
   "codemirror_mode": {
    "name": "ipython",
    "version": 3
   },
   "file_extension": ".py",
   "mimetype": "text/x-python",
   "name": "python",
   "nbconvert_exporter": "python",
   "pygments_lexer": "ipython3",
   "version": "3.12.3"
  }
 },
 "nbformat": 4,
 "nbformat_minor": 2
}
